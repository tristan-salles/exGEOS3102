{
 "cells": [
  {
   "cell_type": "markdown",
   "metadata": {},
   "source": [
    "# Sea-level change resulting from sedimentation"
   ]
  },
  {
   "cell_type": "markdown",
   "metadata": {},
   "source": [
    "<div class=\"alert alert-block alert-success\">\n",
    "_Learning points_: sedimentation in the ocean depresses the ocean floor isostatically but elevates the seabed by deposition. A one-dimensional balance results in a sea-level rise of about a quarter of the sediment layer thickness.\n",
    "</div>"
   ]
  },
  {
   "cell_type": "markdown",
   "metadata": {},
   "source": [
    "## Isostatic equilibrium\n",
    "\n",
    "Isostasy is the state of gravitational equilibrium between Earth's crust and mantle such that the crust _floats_ at an elevation that depends on its thickness and density.\n",
    "\n",
    "This concept is invoked to explain how different topographic heights can exist at Earth's surface. When a certain area of Earth's crust reaches the state of isostasy, it is said to be in **isostatic equilibrium**. \n",
    "\n",
    "\n",
    "<img src=\"figs/ex1-fig2.png\" width=\"60%\">\n",
    "\n"
   ]
  },
  {
   "cell_type": "markdown",
   "metadata": {},
   "source": [
    "## Problem\n",
    "\n",
    "As shown in the figure below, we consider a piece of ocean crust of density $\\rho_m$ overlain by water of density $\\rho_w$ and depth $h_w$ (left column). A layer of sediment of density $\\rho_s$ and thickness $h_s$ is deposited on the seafloor (right column)."
   ]
  },
  {
   "cell_type": "markdown",
   "metadata": {},
   "source": [
    "<img src=\"figs/ex1-fig1.png\" width=\"60%\">"
   ]
  },
  {
   "cell_type": "markdown",
   "metadata": {},
   "source": [
    "We assume that our one-dimensional column is in an **isostatic equilibrium** and the isostatic balance between the 2 columns can be derived from $C_1$ and $C_2$ the thicknesses of ocean crust above the compensation depth (Airy) before and after sediment loading respectively."
   ]
  },
  {
   "cell_type": "markdown",
   "metadata": {},
   "source": [
    "<div class=\"alert alert-block alert-info\">\n",
    "**Write the isostatic equilibrium equation**</div>"
   ]
  },
  {
   "cell_type": "markdown",
   "metadata": {},
   "source": [
    "We write the equilibrium equation as:\n",
    "$$ \\rho_m g C_1 + \\rho_w g h_w = \\rho_w g h_w + \\rho_s g h_s + \\rho_m g C_2$$"
   ]
  },
  {
   "cell_type": "markdown",
   "metadata": {},
   "source": [
    "which reduces to :\n",
    "$$ \\rho_m C_1 = \\rho_s h_s + \\rho_m C_2$$\n",
    "\n",
    "$$ C_1 - C_2 = \\frac{\\rho_s}{\\rho_m} h_s$$"
   ]
  },
  {
   "cell_type": "markdown",
   "metadata": {
    "deletable": true,
    "editable": true
   },
   "source": [
    "<div class=\"alert alert-block alert-info\">\n",
    "**Find the relation between the columns thicknesses**</div>"
   ]
  },
  {
   "cell_type": "markdown",
   "metadata": {},
   "source": [
    "$$C_1 + h_w = C_2 + h_s + h_w - \\Delta_{SL}$$\n",
    "\n",
    "which reduces to\n",
    "\n",
    "$$C_1 - C_2 =  h_s - \\Delta_{SL}$$\n"
   ]
  },
  {
   "cell_type": "markdown",
   "metadata": {
    "deletable": true,
    "editable": true
   },
   "source": [
    "<div class=\"alert alert-block alert-info\">\n",
    "**Find the relation between sediment thickness and sea-level rise**</div>"
   ]
  },
  {
   "cell_type": "markdown",
   "metadata": {},
   "source": [
    "$$ \\Delta_{SL} = (1-\\frac{\\rho_s}{\\rho_m})h_s$$"
   ]
  },
  {
   "cell_type": "markdown",
   "metadata": {},
   "source": [
    "## Example\n",
    "\n",
    "We define the following densities: \n",
    "+ $\\rho_m$ is 3300 kg.m$^{-3}$ for the oceanic crust and,\n",
    "+ $\\rho_s$ is 2500 kg.m$^{-3}$ for the ocean sediment.  "
   ]
  },
  {
   "cell_type": "markdown",
   "metadata": {},
   "source": [
    "<div class=\"alert alert-block alert-info\">\n",
    "**What is the sea-level change relative to the sediment thickness?**</div>"
   ]
  },
  {
   "cell_type": "code",
   "execution_count": 5,
   "metadata": {
    "collapsed": false
   },
   "outputs": [
    {
     "name": "stdout",
     "output_type": "stream",
     "text": [
      "0.242424242424\n"
     ]
    }
   ],
   "source": [
    "rhom = 3300.\n",
    "rhos = 2500.\n",
    "ratio = 1. - rhos/rhom\n",
    "\n",
    "print ratio"
   ]
  },
  {
   "cell_type": "markdown",
   "metadata": {},
   "source": [
    "<div class=\"alert alert-block alert-info\">\n",
    "**Assuming the sedimentation rate in the column is equal to 25 mm per 1000 years, what is the rate of sea-level change?**</div>"
   ]
  },
  {
   "cell_type": "code",
   "execution_count": 7,
   "metadata": {
    "collapsed": false
   },
   "outputs": [
    {
     "name": "stdout",
     "output_type": "stream",
     "text": [
      "6.06060606061\n"
     ]
    }
   ],
   "source": [
    "sedrate = 25.\n",
    "slrate = ratio*sedrate\n",
    "\n",
    "print slrate"
   ]
  },
  {
   "cell_type": "markdown",
   "metadata": {},
   "source": [
    "The sea-level change is 6 mm per 1000 years."
   ]
  },
  {
   "cell_type": "code",
   "execution_count": null,
   "metadata": {
    "collapsed": true
   },
   "outputs": [],
   "source": []
  }
 ],
 "metadata": {
  "kernelspec": {
   "display_name": "Python 2",
   "language": "python",
   "name": "python2"
  },
  "language_info": {
   "codemirror_mode": {
    "name": "ipython",
    "version": 2
   },
   "file_extension": ".py",
   "mimetype": "text/x-python",
   "name": "python",
   "nbconvert_exporter": "python",
   "pygments_lexer": "ipython2",
   "version": "2.7.6"
  }
 },
 "nbformat": 4,
 "nbformat_minor": 2
}
