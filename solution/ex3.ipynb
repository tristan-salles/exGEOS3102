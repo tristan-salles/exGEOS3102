{
 "cells": [
  {
   "cell_type": "markdown",
   "metadata": {},
   "source": [
    "# Decompaction"
   ]
  },
  {
   "cell_type": "markdown",
   "metadata": {},
   "source": [
    "<div class=\"alert alert-block alert-success\">\n",
    "_Learning points_: decompaction is an important procedure to remove the progressive effects of compaction and reduction of layer thicknesses and average porosities during basin subsidence. Decompaction allows the depths of certain stratigraphic horizons to be tracked as a function of time. The decompaction technique essentially restores present-day thicknesses to those at a given time in the burial history by use of porosity-depth relationships for each lithological type. </div>"
   ]
  },
  {
   "cell_type": "markdown",
   "metadata": {},
   "source": [
    "## Posing the problem"
   ]
  },
  {
   "cell_type": "markdown",
   "metadata": {},
   "source": [
    "The decompaction method proposed by Sclater & Christie (1980) is summarised below. Consider a sediment layer at present depths of $y_1$ and $y_2$ that is to be moved vetically to new shallower depths $y_1'$ and $y_2'$"
   ]
  },
  {
   "cell_type": "code",
   "execution_count": 1,
   "metadata": {
    "collapsed": true
   },
   "outputs": [],
   "source": [
    "import numpy as np\n",
    "import matplotlib.pyplot as plt\n",
    "import functools\n",
    "from scipy.optimize import bisect\n",
    "%matplotlib inline\n",
    "%config InlineBackend.figure_format = 'svg'\n",
    "plt.rcParams['mathtext.fontset'] = 'cm'"
   ]
  },
  {
   "cell_type": "code",
   "execution_count": 2,
   "metadata": {
    "collapsed": false
   },
   "outputs": [
    {
     "data": {
      "image/svg+xml": [
       "<?xml version=\"1.0\" encoding=\"utf-8\" standalone=\"no\"?>\n",
       "<!DOCTYPE svg PUBLIC \"-//W3C//DTD SVG 1.1//EN\"\n",
       "  \"http://www.w3.org/Graphics/SVG/1.1/DTD/svg11.dtd\">\n",
       "<!-- Created with matplotlib (http://matplotlib.org/) -->\n",
       "<svg height=\"306pt\" version=\"1.1\" viewBox=\"0 0 152 306\" width=\"152pt\" xmlns=\"http://www.w3.org/2000/svg\" xmlns:xlink=\"http://www.w3.org/1999/xlink\">\n",
       " <defs>\n",
       "  <style type=\"text/css\">\n",
       "*{stroke-linecap:butt;stroke-linejoin:round;}\n",
       "  </style>\n",
       " </defs>\n",
       " <g id=\"figure_1\">\n",
       "  <g id=\"patch_1\">\n",
       "   <path d=\"M 0 306.378125 \n",
       "L 152.403125 306.378125 \n",
       "L 152.403125 0 \n",
       "L 0 0 \n",
       "z\n",
       "\" style=\"fill:none;\"/>\n",
       "  </g>\n",
       "  <g id=\"axes_1\">\n",
       "   <g id=\"patch_2\">\n",
       "    <path clip-path=\"url(#p9d35d9b8cf)\" d=\"M 35.175852 146.6 \n",
       "L 60.539489 146.6 \n",
       "L 60.539489 270.145455 \n",
       "L 35.175852 270.145455 \n",
       "z\n",
       "\" style=\"fill:#ffd700;\"/>\n",
       "   </g>\n",
       "   <g id=\"patch_3\">\n",
       "    <path clip-path=\"url(#p9d35d9b8cf)\" d=\"M 111.266761 23.054545 \n",
       "L 136.630398 23.054545 \n",
       "L 136.630398 183.663636 \n",
       "L 111.266761 183.663636 \n",
       "z\n",
       "\" style=\"fill:#ffd700;\"/>\n",
       "   </g>\n",
       "   <g id=\"line2d_1\">\n",
       "    <path clip-path=\"url(#p9d35d9b8cf)\" d=\"M 60.539489 146.6 \n",
       "L 111.266761 23.054545 \n",
       "\" style=\"fill:none;stroke:#000000;stroke-dasharray:5.6,2.4;stroke-dashoffset:0;stroke-width:1.5;\"/>\n",
       "   </g>\n",
       "   <g id=\"line2d_2\">\n",
       "    <path clip-path=\"url(#p9d35d9b8cf)\" d=\"M 60.539489 270.145455 \n",
       "L 111.266761 183.663636 \n",
       "\" style=\"fill:none;stroke:#000000;stroke-dasharray:5.6,2.4;stroke-dashoffset:0;stroke-width:1.5;\"/>\n",
       "   </g>\n",
       "   <g id=\"text_1\">\n",
       "    <!-- $y_1$ -->\n",
       "    <defs>\n",
       "     <path d=\"M 8.40625 -14.3125 \n",
       "Q 10.5 -17.921875 15.71875 -17.921875 \n",
       "Q 20.453125 -17.921875 23.921875 -14.59375 \n",
       "Q 27.390625 -11.28125 29.515625 -6.5625 \n",
       "Q 31.640625 -1.859375 32.8125 3.078125 \n",
       "Q 28.375 -1.125 23.1875 -1.125 \n",
       "Q 19.234375 -1.125 16.453125 0.234375 \n",
       "Q 13.671875 1.609375 12.125 4.3125 \n",
       "Q 10.59375 7.03125 10.59375 10.890625 \n",
       "Q 10.59375 14.15625 11.46875 17.59375 \n",
       "Q 12.359375 21.046875 13.9375 25.265625 \n",
       "Q 15.53125 29.5 16.703125 32.625 \n",
       "Q 18.015625 36.28125 18.015625 38.625 \n",
       "Q 18.015625 41.609375 15.828125 41.609375 \n",
       "Q 11.859375 41.609375 9.296875 37.53125 \n",
       "Q 6.734375 33.453125 5.515625 28.421875 \n",
       "Q 5.328125 27.78125 4.6875 27.78125 \n",
       "L 3.515625 27.78125 \n",
       "Q 2.6875 27.78125 2.6875 28.71875 \n",
       "L 2.6875 29 \n",
       "Q 4.296875 34.96875 7.609375 39.578125 \n",
       "Q 10.9375 44.1875 16.015625 44.1875 \n",
       "Q 19.578125 44.1875 22.046875 41.84375 \n",
       "Q 24.515625 39.5 24.515625 35.890625 \n",
       "Q 24.515625 34.03125 23.6875 31.984375 \n",
       "Q 23.25 30.765625 21.6875 26.65625 \n",
       "Q 20.125 22.5625 19.28125 19.875 \n",
       "Q 18.453125 17.1875 17.921875 14.59375 \n",
       "Q 17.390625 12.015625 17.390625 9.421875 \n",
       "Q 17.390625 6.109375 18.796875 3.8125 \n",
       "Q 20.21875 1.515625 23.296875 1.515625 \n",
       "Q 29.5 1.515625 34.421875 9.078125 \n",
       "L 42 39.890625 \n",
       "Q 42.328125 41.21875 43.546875 42.15625 \n",
       "Q 44.78125 43.109375 46.1875 43.109375 \n",
       "Q 47.40625 43.109375 48.3125 42.328125 \n",
       "Q 49.21875 41.546875 49.21875 40.28125 \n",
       "Q 49.21875 39.703125 49.125 39.5 \n",
       "L 39.203125 -0.296875 \n",
       "Q 37.890625 -5.421875 34.375 -10.109375 \n",
       "Q 30.859375 -14.796875 25.90625 -17.65625 \n",
       "Q 20.953125 -20.515625 15.578125 -20.515625 \n",
       "Q 12.984375 -20.515625 10.4375 -19.5 \n",
       "Q 7.90625 -18.5 6.34375 -16.5 \n",
       "Q 4.78125 -14.5 4.78125 -11.8125 \n",
       "Q 4.78125 -9.078125 6.390625 -7.078125 \n",
       "Q 8.015625 -5.078125 10.6875 -5.078125 \n",
       "Q 12.3125 -5.078125 13.40625 -6.078125 \n",
       "Q 14.5 -7.078125 14.5 -8.6875 \n",
       "Q 14.5 -10.984375 12.78125 -12.6875 \n",
       "Q 11.078125 -14.40625 8.796875 -14.40625 \n",
       "Q 8.6875 -14.359375 8.59375 -14.328125 \n",
       "Q 8.5 -14.3125 8.40625 -14.3125 \n",
       "\" id=\"Cmmi10-79\"/>\n",
       "     <path d=\"M 9.28125 0 \n",
       "L 9.28125 3.515625 \n",
       "Q 21.78125 3.515625 21.78125 6.6875 \n",
       "L 21.78125 59.1875 \n",
       "Q 16.609375 56.6875 8.6875 56.6875 \n",
       "L 8.6875 60.203125 \n",
       "Q 20.953125 60.203125 27.203125 66.609375 \n",
       "L 28.609375 66.609375 \n",
       "Q 28.953125 66.609375 29.265625 66.328125 \n",
       "Q 29.59375 66.0625 29.59375 65.71875 \n",
       "L 29.59375 6.6875 \n",
       "Q 29.59375 3.515625 42.09375 3.515625 \n",
       "L 42.09375 0 \n",
       "z\n",
       "\" id=\"Cmr10-31\"/>\n",
       "    </defs>\n",
       "    <g transform=\"translate(19.95767 151.541818)scale(0.16 -0.16)\">\n",
       "     <use transform=\"translate(0 0.8125)\" xlink:href=\"#Cmmi10-79\"/>\n",
       "     <use transform=\"translate(49.023438 -16.19375)scale(0.7)\" xlink:href=\"#Cmr10-31\"/>\n",
       "    </g>\n",
       "   </g>\n",
       "   <g id=\"text_2\">\n",
       "    <!-- $y_2$ -->\n",
       "    <defs>\n",
       "     <path d=\"M 4.984375 0 \n",
       "L 4.984375 2.6875 \n",
       "Q 4.984375 2.9375 5.171875 3.21875 \n",
       "L 20.703125 20.40625 \n",
       "Q 24.21875 24.21875 26.40625 26.796875 \n",
       "Q 28.609375 29.390625 30.75 32.765625 \n",
       "Q 32.90625 36.140625 34.15625 39.625 \n",
       "Q 35.40625 43.109375 35.40625 47.015625 \n",
       "Q 35.40625 51.125 33.890625 54.859375 \n",
       "Q 32.375 58.59375 29.375 60.84375 \n",
       "Q 26.375 63.09375 22.125 63.09375 \n",
       "Q 17.78125 63.09375 14.3125 60.46875 \n",
       "Q 10.84375 57.859375 9.421875 53.71875 \n",
       "Q 9.8125 53.8125 10.5 53.8125 \n",
       "Q 12.75 53.8125 14.328125 52.296875 \n",
       "Q 15.921875 50.78125 15.921875 48.390625 \n",
       "Q 15.921875 46.09375 14.328125 44.5 \n",
       "Q 12.75 42.921875 10.5 42.921875 \n",
       "Q 8.15625 42.921875 6.5625 44.546875 \n",
       "Q 4.984375 46.1875 4.984375 48.390625 \n",
       "Q 4.984375 52.15625 6.390625 55.4375 \n",
       "Q 7.8125 58.734375 10.46875 61.296875 \n",
       "Q 13.140625 63.875 16.484375 65.234375 \n",
       "Q 19.828125 66.609375 23.578125 66.609375 \n",
       "Q 29.296875 66.609375 34.21875 64.1875 \n",
       "Q 39.15625 61.765625 42.03125 57.34375 \n",
       "Q 44.921875 52.9375 44.921875 47.015625 \n",
       "Q 44.921875 42.671875 43.015625 38.765625 \n",
       "Q 41.109375 34.859375 38.125 31.65625 \n",
       "Q 35.15625 28.46875 30.515625 24.40625 \n",
       "Q 25.875 20.359375 24.421875 19 \n",
       "L 13.09375 8.109375 \n",
       "L 22.703125 8.109375 \n",
       "Q 29.78125 8.109375 34.546875 8.21875 \n",
       "Q 39.3125 8.34375 39.59375 8.59375 \n",
       "Q 40.765625 9.859375 42 17.828125 \n",
       "L 44.921875 17.828125 \n",
       "L 42.09375 0 \n",
       "z\n",
       "\" id=\"Cmr10-32\"/>\n",
       "    </defs>\n",
       "    <g transform=\"translate(19.95767 275.087273)scale(0.16 -0.16)\">\n",
       "     <use transform=\"translate(0 0.8125)\" xlink:href=\"#Cmmi10-79\"/>\n",
       "     <use transform=\"translate(49.023438 -16.19375)scale(0.7)\" xlink:href=\"#Cmr10-32\"/>\n",
       "    </g>\n",
       "   </g>\n",
       "   <g id=\"text_3\">\n",
       "    <!-- $\\phi$ -->\n",
       "    <defs>\n",
       "     <path d=\"M 19.390625 -19.484375 \n",
       "L 23.875 -1.421875 \n",
       "Q 18.796875 -1.421875 14.40625 0.953125 \n",
       "Q 10.015625 3.328125 7.34375 7.5625 \n",
       "Q 4.6875 11.8125 4.6875 16.796875 \n",
       "Q 4.6875 22.21875 7.375 27.140625 \n",
       "Q 10.0625 32.078125 14.71875 36.109375 \n",
       "Q 19.390625 40.140625 24.75 42.3125 \n",
       "Q 30.125 44.484375 35.40625 44.484375 \n",
       "L 41.40625 68.796875 \n",
       "Q 41.609375 69.390625 42.1875 69.390625 \n",
       "L 43.40625 69.390625 \n",
       "Q 43.796875 69.390625 44.03125 69.046875 \n",
       "Q 44.28125 68.703125 44.28125 68.40625 \n",
       "L 38.28125 44.484375 \n",
       "Q 42.046875 44.484375 45.5625 43.109375 \n",
       "Q 49.078125 41.75 51.78125 39.28125 \n",
       "Q 54.5 36.8125 56 33.46875 \n",
       "Q 57.515625 30.125 57.515625 26.3125 \n",
       "Q 57.515625 20.90625 54.828125 15.96875 \n",
       "Q 52.15625 11.03125 47.609375 7.078125 \n",
       "Q 43.0625 3.125 37.46875 0.84375 \n",
       "Q 31.890625 -1.421875 26.8125 -1.421875 \n",
       "L 22.21875 -19.921875 \n",
       "Q 22.015625 -20.515625 21.390625 -20.515625 \n",
       "L 20.21875 -20.515625 \n",
       "Q 19.828125 -20.515625 19.609375 -20.140625 \n",
       "Q 19.390625 -19.78125 19.390625 -19.484375 \n",
       "M 24.515625 1.21875 \n",
       "L 34.71875 41.890625 \n",
       "Q 32.171875 41.890625 29.390625 40.859375 \n",
       "Q 26.609375 39.84375 24.140625 38.28125 \n",
       "Q 21.6875 36.71875 19.671875 34.71875 \n",
       "Q 17.234375 32.28125 15.375 28.953125 \n",
       "Q 13.53125 25.640625 12.578125 21.953125 \n",
       "Q 11.625 18.265625 11.625 14.703125 \n",
       "Q 11.625 10.9375 13.234375 7.859375 \n",
       "Q 14.84375 4.78125 17.765625 3 \n",
       "Q 20.703125 1.21875 24.515625 1.21875 \n",
       "M 27.484375 1.21875 \n",
       "Q 31.25 1.21875 35.5 3.359375 \n",
       "Q 39.75 5.515625 42.484375 8.40625 \n",
       "Q 46.234375 12.109375 48.40625 17.5 \n",
       "Q 50.59375 22.90625 50.59375 28.421875 \n",
       "Q 50.59375 32.125 48.96875 35.21875 \n",
       "Q 47.359375 38.328125 44.421875 40.109375 \n",
       "Q 41.5 41.890625 37.703125 41.890625 \n",
       "z\n",
       "\" id=\"Cmmi10-c1\"/>\n",
       "    </defs>\n",
       "    <g transform=\"translate(19.95767 213.314545)scale(0.16 -0.16)\">\n",
       "     <use transform=\"translate(0 0.609375)\" xlink:href=\"#Cmmi10-c1\"/>\n",
       "    </g>\n",
       "   </g>\n",
       "   <g id=\"text_4\">\n",
       "    <!-- $y_1'$ -->\n",
       "    <defs>\n",
       "     <path d=\"M 3.515625 5.421875 \n",
       "Q 2.875 5.609375 2.875 6.390625 \n",
       "L 15.09375 51.8125 \n",
       "Q 15.671875 53.65625 17.078125 54.78125 \n",
       "Q 18.5 55.90625 20.3125 55.90625 \n",
       "Q 22.65625 55.90625 24.4375 54.359375 \n",
       "Q 26.21875 52.828125 26.21875 50.484375 \n",
       "Q 26.21875 49.46875 25.6875 48.1875 \n",
       "L 7.625 4.984375 \n",
       "Q 7.28125 4.296875 6.6875 4.296875 \n",
       "Q 6.15625 4.296875 5 4.78125 \n",
       "Q 3.859375 5.28125 3.515625 5.421875 \n",
       "\" id=\"Cmsy10-30\"/>\n",
       "    </defs>\n",
       "    <g transform=\"translate(92.244034 27.996364)scale(0.16 -0.16)\">\n",
       "     <use transform=\"translate(0 0.601562)\" xlink:href=\"#Cmmi10-79\"/>\n",
       "     <use transform=\"translate(55.326719 38.865625)scale(0.7)\" xlink:href=\"#Cmsy10-30\"/>\n",
       "     <use transform=\"translate(49.023438 -24.907813)scale(0.7)\" xlink:href=\"#Cmr10-31\"/>\n",
       "    </g>\n",
       "   </g>\n",
       "   <g id=\"text_5\">\n",
       "    <!-- $y_2'$ -->\n",
       "    <g transform=\"translate(92.244034 188.605455)scale(0.16 -0.16)\">\n",
       "     <use transform=\"translate(0 0.601562)\" xlink:href=\"#Cmmi10-79\"/>\n",
       "     <use transform=\"translate(55.326719 38.865625)scale(0.7)\" xlink:href=\"#Cmsy10-30\"/>\n",
       "     <use transform=\"translate(49.023438 -24.907813)scale(0.7)\" xlink:href=\"#Cmr10-32\"/>\n",
       "    </g>\n",
       "   </g>\n",
       "   <g id=\"text_6\">\n",
       "    <!-- $\\phi'$ -->\n",
       "    <g transform=\"translate(92.244034 121.890909)scale(0.16 -0.16)\">\n",
       "     <use transform=\"translate(0 0.601562)\" xlink:href=\"#Cmmi10-c1\"/>\n",
       "     <use transform=\"translate(71.117422 38.865625)scale(0.7)\" xlink:href=\"#Cmsy10-30\"/>\n",
       "    </g>\n",
       "   </g>\n",
       "  </g>\n",
       " </g>\n",
       " <defs>\n",
       "  <clipPath id=\"p9d35d9b8cf\">\n",
       "   <rect height=\"271.8\" width=\"111.6\" x=\"30.103125\" y=\"10.7\"/>\n",
       "  </clipPath>\n",
       " </defs>\n",
       "</svg>\n"
      ],
      "text/plain": [
       "<matplotlib.figure.Figure at 0x7faefc14b450>"
      ]
     },
     "metadata": {},
     "output_type": "display_data"
    }
   ],
   "source": [
    "plt.figure(figsize=(2,5))\n",
    "x = [0,1,1,0,0]\n",
    "y = [1,1,1.5,1.5,1]\n",
    "plt.text(-0.6,1.02,'$y_1$',fontsize=16)\n",
    "plt.text(-0.6,1.52,'$y_2$',fontsize=16)\n",
    "plt.text(-0.6,1.27,'$\\phi$',fontsize=16)\n",
    "plt.fill(x,y,'gold')\n",
    "x = [3,4,4,3,3]\n",
    "y = [0.5,0.5,1.15,1.15,0.5]\n",
    "plt.text(2.25,0.52,'$y_1\\'$',fontsize=16)\n",
    "plt.text(2.25,1.17,'$y_2\\'$',fontsize=16)\n",
    "plt.text(2.25,0.9,'$\\phi\\'$',fontsize=16)\n",
    "plt.fill(x,y,'gold')\n",
    "plt.plot([1,3],[1,0.5],'k--')\n",
    "plt.plot([1,3],[1.5,1.15],'k--')\n",
    "plt.gca().invert_yaxis()\n",
    "plt.axis('off');"
   ]
  },
  {
   "cell_type": "markdown",
   "metadata": {},
   "source": [
    "Following  Athy's formulation for normally pressured sediments, the variation of porosity $\\phi$ with depth $y$ is given by (eq. 1)\n",
    "\n",
    "$$ \\phi(y) = \\phi_0 e^{-cy}$$\n",
    "\n",
    "where $\\phi_0$ is the surface porosity and $c$ is a depth constant for the downward decrease in porosity. The amount of water-filled pore space $V_w$ between depths $y_1$ and $y_2$ is simply the porosity integrated over the depth interval (eq. 2),\n",
    "\n",
    "$$ V_w = \\int^{y_2}_{y_1} \\phi_0 e^{-cy} dy$$ \n",
    "\n",
    "The integration by u-substitution gives (eq. 3)\n",
    "\n",
    "$$ V_w = \\frac{\\phi_0}{c} \\left( e^{-cy_1} - e^{-cy_2}\\right) $$\n",
    "\n",
    "since the total volume of the sedimentary layer ($V_t$) is the volume due to pore-filling water ($V_w$) and the volume of the sediment grains ($V_s$) (eq. 4)\n",
    "\n",
    "$$ V_s = V_t - V_w $$"
   ]
  },
  {
   "cell_type": "markdown",
   "metadata": {},
   "source": [
    "Assuming a unit cross-sectional area, it follows that (eq. 5):\n",
    "\n",
    "$$ y_s = y_2- y_1 - \\frac{\\phi_0}{c} \\left( e^{-cy_1} - e^{-cy_2}\\right)$$"
   ]
  },
  {
   "cell_type": "markdown",
   "metadata": {},
   "source": [
    "On decompaction, the sediment volume remains the same, only the volume of water changes. The height of the water in a unit area sedimentary column lying between depths $y_1'$ and $y_2'$ is (eq. 6):\n",
    "\n",
    "\n",
    "$$ y_w' = \\frac{\\phi_0}{c} \\left( e^{-cy_1'} - e^{-cy_2'}\\right)$$"
   ]
  },
  {
   "cell_type": "markdown",
   "metadata": {},
   "source": [
    "The new decompacted thickness of the sediment layer is the sum of the thickness due to the sediment grains ($y_s$) and that due to the water ($y_w'$). That is (eq. 7)\n",
    "\n",
    "$$ y_2' - y_1' = y_s + y_w' $$\n",
    "\n",
    "which becomes (eq. 8)\n",
    "\n",
    "$$ y_2' - y_1' =  y_2- y_1 - \\frac{\\phi_0}{c} \\left( e^{-cy_1} - e^{-cy_2}\\right) + \\frac{\\phi_0}{c} \\left( e^{-cy_1'} - e^{-cy_2'}\\right) $$\n",
    "\n",
    "This is the **general decompaction equation**. It represents mathematicaly the exercise of sliding the sediment layer up the exponential porosity-depth curve. Its solution is by numerical iteration, which makes it ideal for solving by computer."
   ]
  },
  {
   "cell_type": "markdown",
   "metadata": {},
   "source": [
    "The average porosity of the layer at any depth is (eq. 9)\n",
    "\n",
    "$$ \\phi = \\frac{\\phi_0}{c} \\left[\\frac{e^{-cy_1'} - e^{-cy_2'}}{y_2'-y_1'}\\right]$$"
   ]
  },
  {
   "cell_type": "markdown",
   "metadata": {},
   "source": [
    "## Calculation of decompacted depths, layer thicknesses and average porosities\n",
    "\n",
    "### Stage 1: decompaction of layer 1"
   ]
  },
  {
   "cell_type": "markdown",
   "metadata": {},
   "source": [
    "<img src=\"figs/ex3-fig1.png\" width=\"50%\">\n",
    "\n",
    "We consider the three-layer dataset defined by the above table. The procedure to decompact the different layers consist in an iterative process starting from the deepest layer to the top of the sedimentary pile."
   ]
  },
  {
   "cell_type": "markdown",
   "metadata": {},
   "source": [
    "<img src=\"figs/ex3-fig2.png\" width=\"40%\">"
   ]
  },
  {
   "cell_type": "markdown",
   "metadata": {},
   "source": [
    "To decompact layer 1 (Chalk) so that its upper surface is at sea-level, we use eq. 8 with:\n",
    "+ $y_{2-1}^{s1}$ = 4000 m corresponding to $y_2$ for layer 1 (subscript) at stage 1 (superscript)\n",
    "+ $y_{1-1}^{s1}$ = 3000 m corresponding to $y_1$ for layer 1 (subscript) at stage 1 (superscript)\n",
    "+ $y_{1-1}^{s1'}$ = 0 m corresponding to $y_1'$ for layer 1 (subscript) at stage 1 (superscript)\n",
    "+ $\\phi_0$ = 0.70\n",
    "+ $c$ = 0.71"
   ]
  },
  {
   "cell_type": "code",
   "execution_count": 3,
   "metadata": {
    "collapsed": true
   },
   "outputs": [],
   "source": [
    "y2_1_s1 = 4.\n",
    "y1_1_s1 = 3.\n",
    "phi0_chalk = 0.7\n",
    "c_chalk = 0.71"
   ]
  },
  {
   "cell_type": "markdown",
   "metadata": {},
   "source": [
    "As you can see $y_2'$ appears on both the right-hand (RHS) and left-hand (LHS) sides of eq. 8. It could be solved in the ‘_brute force_’ way, that is, by gradually changing the value of $y_2'$ until RHS=LHS. \n",
    "\n",
    "Using the **bisection** function from **scipy** we can do it much more elegantly: \n",
    "[scipy bisect function](https://docs.scipy.org/doc/scipy-0.18.1/reference/generated/scipy.optimize.bisect.html)\n",
    "\n",
    "To do this we first need to create the compaction function "
   ]
  },
  {
   "cell_type": "code",
   "execution_count": 4,
   "metadata": {
    "collapsed": false
   },
   "outputs": [],
   "source": [
    "# Compaction function - the unknown variable is y2a\n",
    "def comp_func(y2new,y1,y2,y1new,phi0,c):\n",
    "    # left hand side of decompaction equation:\n",
    "    LHS = y2new - y1new\n",
    "    # right hand side of decompaction equation:\n",
    "    RHS = y2 - y1 - (phi0/c)*(np.exp(-c*y1)-np.exp(-c*y2)) + (phi0/c)*(np.exp(-c*y1new)-np.exp(-c*y2new))\n",
    "    return LHS - RHS"
   ]
  },
  {
   "cell_type": "markdown",
   "metadata": {},
   "source": [
    "One issue we need to address is that `comp_func` six input parameters, but the scipy **bisect** function only takes one parameter. We create a partial function `comp_func_1` in which the only variable is $y_2'$ (y2new), the rest are treated as constants:"
   ]
  },
  {
   "cell_type": "code",
   "execution_count": 5,
   "metadata": {
    "collapsed": false
   },
   "outputs": [],
   "source": [
    "y1new_1_s1 = 0.\n",
    "comp_func_1 = functools.partial(comp_func, y1=y1_1_s1, \n",
    "                                y2=y2_1_s1, y1new=y1new_1_s1, \n",
    "                                phi0=phi0_chalk, c=c_chalk)"
   ]
  },
  {
   "cell_type": "code",
   "execution_count": 11,
   "metadata": {
    "collapsed": false
   },
   "outputs": [
    {
     "name": "stdout",
     "output_type": "stream",
     "text": [
      "Compacted layer 1 thickness: 1.0 km\n",
      "------\n",
      "Decompacted layer 1 base depth: 1.6126 km\n",
      "Decompacted layer 1 thickness: 1.6126 km\n"
     ]
    }
   ],
   "source": [
    "# Use bisection to find new base depth\n",
    "y2new_1_s1 = bisect(comp_func_1,y1new_1_s1,y1new_1_s1 + 3.*(y2_1_s1-y1_1_s1)) \n",
    "print('Compacted layer 1 thickness: '+str(round(y2_1_s1-y1_1_s1,4))+' km')\n",
    "print '------'\n",
    "print('Decompacted layer 1 base depth: '+str(round(y2new_1_s1,4))+' km')\n",
    "print('Decompacted layer 1 thickness: '+str(round(y2new_1_s1-y1new_1_s1,4))+' km')"
   ]
  },
  {
   "cell_type": "markdown",
   "metadata": {},
   "source": [
    "Now let's compute the initial and new porosity"
   ]
  },
  {
   "cell_type": "code",
   "execution_count": 8,
   "metadata": {
    "collapsed": true
   },
   "outputs": [],
   "source": [
    "# Initial average porosity\n",
    "phi_1_s1 = (phi0_chalk/c_chalk)*(np.exp(-c_chalk*y1_1_s1)-np.exp(-c_chalk*y2_1_s1))/(y2_1_s1-y1_1_s1) \n",
    "# New average porosity\n",
    "newphi_1_s1 = (phi0_chalk/c_chalk)*(np.exp(-c_chalk*y1new_1_s1)-np.exp(-c_chalk*y2new_1_s1))/(y2new_1_s1-y1new_1_s1) "
   ]
  },
  {
   "cell_type": "code",
   "execution_count": 9,
   "metadata": {
    "collapsed": false
   },
   "outputs": [
    {
     "name": "stdout",
     "output_type": "stream",
     "text": [
      "Compacted layer 1 porosity: 0.06\n",
      "Decompacted layer 1 porosity: 0.417\n"
     ]
    }
   ],
   "source": [
    "print('Compacted layer 1 porosity: '+str(round(phi_1_s1,3)))\n",
    "print('Decompacted layer 1 porosity: '+str(round(newphi_1_s1,3)))"
   ]
  },
  {
   "cell_type": "markdown",
   "metadata": {},
   "source": [
    "The result is $y_{2-1}^{s1'}$ $\\sim$ **1612 m**, and the average porosity of the decompacted layer 1 is **0.417**.\n",
    "\n",
    "<img src=\"figs/ex3-fig3.png\" width=\"30%\">"
   ]
  },
  {
   "cell_type": "markdown",
   "metadata": {},
   "source": [
    "## Stage 2: decompacting the second layer"
   ]
  },
  {
   "cell_type": "markdown",
   "metadata": {},
   "source": [
    "<div class=\"alert alert-block alert-info\">\n",
    "**To track the depth of the base of layer 1 over time, it is necessary to decompact Layer 2 by bringing it to the surface, so that the decompacted base of layer 2 becomes the top of layer 1.**</div>"
   ]
  },
  {
   "cell_type": "markdown",
   "metadata": {},
   "source": [
    "To decompact layer 2 (Sandstones) so that its upper surface is at sea-level, we use eq. 8 with:\n",
    "+ $y_{2-2}^{s2}$ = 3000 m corresponding to $y_2$ for layer 2 (subscript) at stage 2 (superscript)\n",
    "+ $y_{1-2}^{s2}$ = 2000 m corresponding to $y_1$ for layer 2 (subscript) at stage 2 (superscript)\n",
    "+ $y_{1-2}^{s2'}$ = 0 m corresponding to $y_1'$ for layer 2 (subscript) at stage 2 (superscript)\n",
    "+ $\\phi_0$ = 0.49\n",
    "+ $c$ = 0.27"
   ]
  },
  {
   "cell_type": "code",
   "execution_count": 15,
   "metadata": {
    "collapsed": true
   },
   "outputs": [],
   "source": [
    "y2_2_s2 = 3.\n",
    "y1_2_s2 = 2.\n",
    "phi0_sand = 0.49\n",
    "c_sand = 0.27"
   ]
  },
  {
   "cell_type": "code",
   "execution_count": 18,
   "metadata": {
    "collapsed": true
   },
   "outputs": [],
   "source": [
    "y1new_2_s2 = 0.\n",
    "comp_func_2 = functools.partial(comp_func, y1=y1_2_s2, \n",
    "                                y2=y2_2_s2, y1new=y1new_2_s2, \n",
    "                                phi0=phi0_sand, c=c_sand)"
   ]
  },
  {
   "cell_type": "code",
   "execution_count": 19,
   "metadata": {
    "collapsed": false
   },
   "outputs": [
    {
     "name": "stdout",
     "output_type": "stream",
     "text": [
      "Compacted layer 2 thickness: 1.0 km\n",
      "------\n",
      "Decompacted layer 2 base depth: 1.28 km\n",
      "Decompacted layer 2 thickness: 1.28 km\n"
     ]
    }
   ],
   "source": [
    "# Use bisection to find new base depth\n",
    "y2new_2_s2 = bisect(comp_func_2,y1new_2_s2,y1new_2_s2 + 3.*(y2_2_s2-y1_2_s2)) \n",
    "print('Compacted layer 2 thickness: '+str(round(y2_2_s2-y1_2_s2,3))+' km')\n",
    "print '------'\n",
    "print('Decompacted layer 2 base depth: '+str(round(y2new_2_s2,3))+' km')\n",
    "print('Decompacted layer 2 thickness: '+str(round(y2new_2_s2-y1new_2_s2,3))+' km')"
   ]
  },
  {
   "cell_type": "code",
   "execution_count": 20,
   "metadata": {
    "collapsed": true
   },
   "outputs": [],
   "source": [
    "# Initial average porosity\n",
    "phi_2_s2 = (phi0_sand/c_sand)*(np.exp(-c_sand*y1_2_s2)-np.exp(-c_sand*y2_2_s2))/(y2_2_s2-y1_2_s2) \n",
    "# New average porosity\n",
    "newphi_2_s2 = (phi0_sand/c_sand)*(np.exp(-c_sand*y1new_2_s2)-np.exp(-c_sand*y2new_2_s2))/(y2new_2_s2-y1new_2_s2)"
   ]
  },
  {
   "cell_type": "code",
   "execution_count": 21,
   "metadata": {
    "collapsed": false
   },
   "outputs": [
    {
     "name": "stdout",
     "output_type": "stream",
     "text": [
      "Compacted layer 2 porosity: 0.25\n",
      "Decompacted layer 2 porosity: 0.414\n"
     ]
    }
   ],
   "source": [
    "print('Compacted layer 2 porosity: '+str(round(phi_2_s2,3)))\n",
    "print('Decompacted layer 2 porosity: '+str(round(newphi_2_s2,3)))"
   ]
  },
  {
   "cell_type": "markdown",
   "metadata": {},
   "source": [
    "To track the base of layer 1 over time, it is necessary to decompact Layer 2 by bringing it to the surface. As shown, the decompacted base of layer 2 is at **1280** m and the average porosity of decompacted layer 2 is **0.414**."
   ]
  },
  {
   "cell_type": "markdown",
   "metadata": {},
   "source": [
    "### Update the first layer\n",
    "\n",
    "Based on decompacted thickness of layer 2, the depth to the top of layer 1 is therefore 1280 m. To calculate the base of layer 1 under the decompacted layer 2 we set $y_{1-1}^{s2'}$ = 1280 m."
   ]
  },
  {
   "cell_type": "code",
   "execution_count": 22,
   "metadata": {
    "collapsed": true
   },
   "outputs": [],
   "source": [
    "y1new_1_s2 = 1.28\n",
    "y2_1_s2 = 4.\n",
    "y1_1_s2 = 3.\n",
    "phi0_chalk = 0.7\n",
    "c_chalk = 0.71\n",
    "comp_func_3 = functools.partial(comp_func, y1=y1_1_s2, \n",
    "                                y2=y2_1_s2, y1new=y1new_1_s2, \n",
    "                                phi0=phi0_chalk, c=c_chalk)"
   ]
  },
  {
   "cell_type": "code",
   "execution_count": 23,
   "metadata": {
    "collapsed": false
   },
   "outputs": [
    {
     "name": "stdout",
     "output_type": "stream",
     "text": [
      "Compacted layer 1 thickness: 1.0 km\n",
      "------\n",
      "Decompacted layer 1 base depth: 2.4439 km\n",
      "Decompacted layer 1 thickness: 1.1639 km\n"
     ]
    }
   ],
   "source": [
    "# Use bisection to find new base depth\n",
    "y2new_1_s2 = bisect(comp_func_3,y1new_1_s2,y1new_1_s2 + 3*(y2_1_s2-y1_1_s2)) \n",
    "print('Compacted layer 1 thickness: '+str(round(y2_1_s2-y1_1_s2,4))+' km')\n",
    "print '------'\n",
    "print('Decompacted layer 1 base depth: '+str(round(y2new_1_s2,4))+' km')\n",
    "print('Decompacted layer 1 thickness: '+str(round(y2new_1_s2-y1new_1_s2,4))+' km')"
   ]
  },
  {
   "cell_type": "code",
   "execution_count": 28,
   "metadata": {
    "collapsed": true
   },
   "outputs": [],
   "source": [
    "# Initial average porosity\n",
    "phi_1_s2 = (phi0_chalk/c_chalk)*(np.exp(-c_chalk*y1_1_s2)-np.exp(-c_chalk*y2_1_s2))/(y2_1_s2-y1_1_s2) \n",
    "# New average porosity\n",
    "newphi_1_s2 = (phi0_chalk/c_chalk)*(np.exp(-c_chalk*y1new_1_s2)-np.exp(-c_chalk*y2new_1_s2))/(y2new_1_s2-y1new_1_s2) "
   ]
  },
  {
   "cell_type": "code",
   "execution_count": 29,
   "metadata": {
    "collapsed": false
   },
   "outputs": [
    {
     "name": "stdout",
     "output_type": "stream",
     "text": [
      "Compacted layer 1 porosity: 0.06\n",
      "Decompacted layer 1 porosity: 0.192\n"
     ]
    }
   ],
   "source": [
    "print('Compacted layer 1 porosity: '+str(round(phi_1_s2,3)))\n",
    "print('Decompacted layer 1 porosity: '+str(round(newphi_1_s2,3)))"
   ]
  },
  {
   "cell_type": "markdown",
   "metadata": {},
   "source": [
    "During stage 2, the base of the layer 1 becomes **2444** m. The average porosity of layer 1 under the decompacted layer 2 is **0.192**.\n",
    "\n",
    "<img src=\"figs/ex3-fig4.png\" width=\"40%\">"
   ]
  },
  {
   "cell_type": "markdown",
   "metadata": {},
   "source": [
    "## Stage 3: updating the sedimentary layers\n",
    "\n",
    "To get the values of layer thicknesses and average porosities, we only have to compute the average porosity for the last layer:"
   ]
  },
  {
   "cell_type": "markdown",
   "metadata": {},
   "source": [
    "Layer 3 (Shales) is defined by:\n",
    "+ $y_{2-3}^{s3}$ = 2000 m corresponding to $y_2$ for layer 3 (subscript) at stage 3 (superscript)\n",
    "+ $y_{1-3}^{s3}$ = 0 m corresponding to $y_1$ for layer 3 (subscript) at stage 3 (superscript)\n",
    "+ $\\phi_0$ = 0.63\n",
    "+ $c$ = 0.51"
   ]
  },
  {
   "cell_type": "code",
   "execution_count": 32,
   "metadata": {
    "collapsed": true
   },
   "outputs": [],
   "source": [
    "y2_3_s3 = 2.\n",
    "y1_3_s3 = 0.\n",
    "phi0_shales = 0.63\n",
    "c_shales = 0.51"
   ]
  },
  {
   "cell_type": "code",
   "execution_count": 33,
   "metadata": {
    "collapsed": false
   },
   "outputs": [
    {
     "name": "stdout",
     "output_type": "stream",
     "text": [
      "Layer 3 porosity: 0.395\n"
     ]
    }
   ],
   "source": [
    "# Initial average porosity\n",
    "phi_3 = (phi0_shales/c_shales)*(np.exp(-c_shales*y1_3_s3)-np.exp(-c_shales*y2_3_s3))/(y2_3_s3-y1_3_s3) \n",
    "print('Layer 3 porosity: '+str(round(phi_3,3)))"
   ]
  },
  {
   "cell_type": "markdown",
   "metadata": {},
   "source": [
    "Layer thicknesses and average porosities calculated through the decompaction process are compiled in the graph below.\n",
    "\n",
    "\n",
    "<img src=\"figs/ex3-fig5.png\" width=\"50%\">"
   ]
  },
  {
   "cell_type": "code",
   "execution_count": null,
   "metadata": {
    "collapsed": true
   },
   "outputs": [],
   "source": []
  }
 ],
 "metadata": {
  "kernelspec": {
   "display_name": "Python 2",
   "language": "python",
   "name": "python2"
  },
  "language_info": {
   "codemirror_mode": {
    "name": "ipython",
    "version": 2
   },
   "file_extension": ".py",
   "mimetype": "text/x-python",
   "name": "python",
   "nbconvert_exporter": "python",
   "pygments_lexer": "ipython2",
   "version": "2.7.6"
  }
 },
 "nbformat": 4,
 "nbformat_minor": 2
}
