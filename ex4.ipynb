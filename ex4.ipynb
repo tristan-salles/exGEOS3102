{
 "cells": [
  {
   "cell_type": "markdown",
   "metadata": {
    "deletable": true,
    "editable": true
   },
   "source": [
    "# Decompaction loop\n",
    "\n",
    "As for exercise 3:\n",
    "\n",
    "<div class=\"alert alert-block alert-success\">\n",
    "_Learning points_: decompaction is an important procedure to remove the progressive effects of compaction and reduction of layer thicknesses and average porosities during basin subsidence. Decompaction allows the depths of certain stratigraphic horizons to be tracked as a function of time. The decompaction technique essentially restores present-day thicknesses to those at a given time in the burial history by use of porosity-depth relationships for each lithological type. </div>\n",
    "\n",
    "Instead of doing each layer decompaction step-by-step, we will write a function to do it automatically. "
   ]
  },
  {
   "cell_type": "code",
   "execution_count": null,
   "metadata": {
    "collapsed": true,
    "deletable": true,
    "editable": true
   },
   "outputs": [],
   "source": [
    "import numpy as np\n",
    "import matplotlib.pyplot as plt\n",
    "import functools\n",
    "from scipy.optimize import bisect\n",
    "%matplotlib inline\n",
    "%config InlineBackend.figure_format = 'svg'\n",
    "plt.rcParams['mathtext.fontset'] = 'cm'"
   ]
  },
  {
   "cell_type": "markdown",
   "metadata": {
    "deletable": true,
    "editable": true
   },
   "source": [
    "## Driving equations\n",
    "\n",
    "**General decompaction equation**.\n",
    "\n",
    "$$ y_2' - y_1' =  y_2- y_1 - \\frac{\\phi_0}{c} \\left( e^{-cy_1} - e^{-cy_2}\\right) + \\frac{\\phi_0}{c} \\left( e^{-cy_1'} - e^{-cy_2'}\\right) $$\n",
    "\n",
    "**Average porosity of a layer at any depth**\n",
    "\n",
    "$$ \\phi = \\frac{\\phi_0}{c} \\left[\\frac{e^{-cy_1'} - e^{-cy_2'}}{y_2'-y_1'}\\right]$$"
   ]
  },
  {
   "cell_type": "markdown",
   "metadata": {
    "deletable": true,
    "editable": true
   },
   "source": [
    "## Problem definitions\n",
    "\n",
    "<img src=\"figs/ex3-fig1.png\" width=\"50%\">\n",
    "\n",
    "We consider the three-layer dataset defined by the above table. The procedure to decompact the different layers consist in an iterative process starting from the deepest layer to the top of the sedimentary pile.\n",
    "\n",
    "<img src=\"figs/ex3-fig2.png\" width=\"40%\">"
   ]
  },
  {
   "cell_type": "code",
   "execution_count": null,
   "metadata": {
    "collapsed": true,
    "deletable": true,
    "editable": true
   },
   "outputs": [],
   "source": [
    "# Compaction function - the unknown variable is y2a\n",
    "def comp_func(y2new,y1,y2,y1new,phi0,c):\n",
    "    # left hand side of decompaction equation:\n",
    "    LHS = y2new - y1new\n",
    "    # right hand side of decompaction equation:\n",
    "    RHS = y2 - y1 - (phi0/c)*(np.exp(-c*y1)-np.exp(-c*y2)) + (phi0/c)*(np.exp(-c*y1new)-np.exp(-c*y2new))\n",
    "    return LHS - RHS"
   ]
  },
  {
   "cell_type": "markdown",
   "metadata": {
    "deletable": true,
    "editable": true
   },
   "source": [
    "## Code to (de)compact a stratigraphic column with multiple layers\n",
    "\n",
    "We write a function that does the depth calculation for more than one layer in a sedimentary column:"
   ]
  },
  {
   "cell_type": "code",
   "execution_count": null,
   "metadata": {
    "collapsed": true,
    "deletable": true,
    "editable": true
   },
   "outputs": [],
   "source": [
    "def decompact(tops, lith, new_top, phi_chalk, phi_sand, phi_shales, c_chalk, c_sand, c_shales):\n",
    "    tops_new = [] # list for decompacted tops\n",
    "    tops_new.append(new_top) # starting value\n",
    "    for i in range(len(tops)-1):\n",
    "        if lith[i] == 2:\n",
    "            phi = phi_shales; c = c_shales\n",
    "        if lith[i] == 1:\n",
    "            phi = phi_sand; c = c_sand\n",
    "        if lith[i] == 0:\n",
    "            phi = phi_chalk; c = c_chalk\n",
    "        comp_func_1 = functools.partial(comp_func,y1=tops[i],y2=tops[i+1],y1new=tops_new[-1],phi0=phi,c=c)\n",
    "        base_new_a = tops_new[-1]+tops[i+1]-tops[i]\n",
    "        base_new = bisect(comp_func_1, base_new_a, 4*base_new_a) # bisection\n",
    "        tops_new.append(base_new)\n",
    "    return tops_new"
   ]
  },
  {
   "cell_type": "markdown",
   "metadata": {
    "deletable": true,
    "editable": true
   },
   "source": [
    "Let’s use this function to decompact the stratigraphic column that is describe above:"
   ]
  },
  {
   "cell_type": "code",
   "execution_count": null,
   "metadata": {
    "collapsed": false,
    "deletable": true,
    "editable": true
   },
   "outputs": [],
   "source": [
    "tops = np.array([2.,3.,4.])\n",
    "lith = np.array([1,0])\n",
    "\n",
    "phi0_chalk = 0.7\n",
    "c_chalk = 0.71\n",
    "\n",
    "phi0_sand = 0.49\n",
    "c_sand = 0.27\n",
    "\n",
    "phi0_shales = 0.63\n",
    "c_shales = 0.51"
   ]
  },
  {
   "cell_type": "code",
   "execution_count": null,
   "metadata": {
    "collapsed": false,
    "deletable": true,
    "editable": true
   },
   "outputs": [],
   "source": [
    "tops_new = decompact(tops,lith,0.0,phi0_chalk, phi0_sand, phi0_shales, c_chalk, c_sand, c_shales) # compute new tops"
   ]
  },
  {
   "cell_type": "code",
   "execution_count": null,
   "metadata": {
    "collapsed": false,
    "deletable": true,
    "editable": true
   },
   "outputs": [],
   "source": [
    "print tops_new"
   ]
  },
  {
   "cell_type": "markdown",
   "metadata": {
    "deletable": true,
    "editable": true
   },
   "source": [
    "Plotting the results"
   ]
  },
  {
   "cell_type": "code",
   "execution_count": null,
   "metadata": {
    "collapsed": false,
    "deletable": true,
    "editable": true
   },
   "outputs": [],
   "source": [
    "def plot_decompaction(tops,tops_new):\n",
    "    for i in range(len(tops)-1):\n",
    "        x = [0,1,1,0]\n",
    "        y = [tops[i], tops[i], tops[i+1], tops[i+1]]\n",
    "        if lith[i] == 0:\n",
    "            color = 'xkcd:salmon'\n",
    "        if lith[i] == 1:\n",
    "            color = 'xkcd:yellowish'\n",
    "        if lith[i] == 2:\n",
    "            color = 'xkcd:umber'\n",
    "        plt.fill(x,y,color=color)\n",
    "        x = np.array([2,3,3,2])\n",
    "        y = np.array([tops_new[i], tops_new[i], tops_new[i+1], tops_new[i+1]])\n",
    "        if lith[i] == 0:\n",
    "            color = 'xkcd:salmon'\n",
    "        if lith[i] == 1:\n",
    "            color = 'xkcd:yellowish'\n",
    "        if lith[i] == 2:\n",
    "            color = 'xkcd:umber'\n",
    "        plt.fill(x,y,color=color)\n",
    "    plt.gca().invert_yaxis()\n",
    "    plt.tick_params(axis='x',which='both',bottom='off',top='off',labelbottom='off')\n",
    "    plt.ylabel('depth (km)')\n",
    "\n",
    "plot_decompaction(tops,tops_new)"
   ]
  },
  {
   "cell_type": "markdown",
   "metadata": {
    "deletable": true,
    "editable": true
   },
   "source": [
    "<img src=\"figs/ex3-fig4.png\" width=\"40%\">"
   ]
  },
  {
   "cell_type": "markdown",
   "metadata": {
    "deletable": true,
    "editable": true
   },
   "source": [
    "## Another example"
   ]
  },
  {
   "cell_type": "code",
   "execution_count": null,
   "metadata": {
    "collapsed": false,
    "deletable": true,
    "editable": true
   },
   "outputs": [],
   "source": [
    "tops = np.array([1.0,1.1,1.15,1.3,1.5,2.0])\n",
    "lith = np.array([2,1,2,1,2]) # lithology labels: 2 = shale, 1 = sand\n",
    "phi0_sand = 0.49 # surface porosity for sand\n",
    "phi0_shale = 0.63 # surface porosity for mud\n",
    "c_sand = 0.27 # porosity-depth coefficient for sand (km-1)\n",
    "c_shale = 0.57 # porosity-depth coefficent for mud (km-1)\n",
    "tops_new = decompact(tops,lith,0.0,phi0_chalk, phi0_sand, phi0_shales, c_chalk, c_sand, c_shales) # compute new tops"
   ]
  },
  {
   "cell_type": "code",
   "execution_count": null,
   "metadata": {
    "collapsed": false,
    "deletable": true,
    "editable": true
   },
   "outputs": [],
   "source": [
    "plot_decompaction(tops,tops_new)"
   ]
  },
  {
   "cell_type": "code",
   "execution_count": null,
   "metadata": {
    "collapsed": false,
    "deletable": true,
    "editable": true
   },
   "outputs": [],
   "source": [
    "print tops_new"
   ]
  },
  {
   "cell_type": "markdown",
   "metadata": {
    "deletable": true,
    "editable": true
   },
   "source": [
    "<div class=\"alert alert-block alert-info\">\n",
    "**Now let’s see what happens if we use the 90% mud and 90% sand curves from Kominz et al. (2011) (based on ex2)**</div>"
   ]
  },
  {
   "cell_type": "code",
   "execution_count": null,
   "metadata": {
    "collapsed": false,
    "deletable": true,
    "editable": true
   },
   "outputs": [],
   "source": [
    "tops = ???\n",
    "lith = ???\n",
    "c_sand = ??? # Kominz et al. 2011 >90% sand curve (exercise 2)\n",
    "c_shale = ??? # Kominz et al. 2011 >90% mud curve (exercise 2)\n",
    "phi0_sand = ??? # Kominz et al. 2011 >90% sand curve (exercise 2)\n",
    "phi0_shale = ??? # Kominz et al. 2011 >90% mud curve (exercise 2)\n",
    "tops_new = ??? # compute new tops\n",
    "\n",
    "plot_decompaction(tops,tops_new)"
   ]
  },
  {
   "cell_type": "code",
   "execution_count": null,
   "metadata": {
    "collapsed": false,
    "deletable": true,
    "editable": true
   },
   "outputs": [],
   "source": [
    "print tops_new"
   ]
  },
  {
   "cell_type": "markdown",
   "metadata": {
    "deletable": true,
    "editable": true
   },
   "source": [
    "Quite predictably, the main difference is that the sand layers have decompacted less in this case."
   ]
  },
  {
   "cell_type": "code",
   "execution_count": null,
   "metadata": {
    "collapsed": true,
    "deletable": true,
    "editable": true
   },
   "outputs": [],
   "source": []
  }
 ],
 "metadata": {
  "kernelspec": {
   "display_name": "Python 2",
   "language": "python",
   "name": "python2"
  },
  "language_info": {
   "codemirror_mode": {
    "name": "ipython",
    "version": 2
   },
   "file_extension": ".py",
   "mimetype": "text/x-python",
   "name": "python",
   "nbconvert_exporter": "python",
   "pygments_lexer": "ipython2",
   "version": "2.7.6"
  }
 },
 "nbformat": 4,
 "nbformat_minor": 2
}
