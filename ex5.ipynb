{
 "cells": [
  {
   "cell_type": "markdown",
   "metadata": {
    "deletable": true,
    "editable": true
   },
   "source": [
    "# Backstripping finally!"
   ]
  },
  {
   "cell_type": "markdown",
   "metadata": {
    "deletable": true,
    "editable": true
   },
   "source": [
    "<div class=\"alert alert-block alert-success\">\n",
    "_Learning points_: the depths of a stratigraphic horizon over time is partly a result of the loading by overlying sediment. Backstripping is the removal of this loading effect to reveal the driving force for tectonic subsidence, with the assumption that it is taking place in a water-filled basin. Backstripping allows different boreholes or stratigraphic sections to be compared in terms of their water-loaded tectonic subsidence. </div>"
   ]
  },
  {
   "cell_type": "markdown",
   "metadata": {
    "deletable": true,
    "editable": true
   },
   "source": [
    "## Introduction\n",
    "\n",
    "Backstripping simulation is a backward-in-time process where at each time step one removes the top-most (youngest) sediment layer together with its effects on the underlying sediments (via decompaction) and the Earth’s crust (isostasy). The purpose of this exercise is to compute the temporal evolution of the component of crustal subsidence that is not attributed to sediment loading. This subsidence is called **thermo-tectonic**, which essentially means that we have no clue as to why it happened but we suspect that it was caused by some combination of tectonic forces and thermal effects."
   ]
  },
  {
   "cell_type": "markdown",
   "metadata": {
    "deletable": true,
    "editable": true
   },
   "source": [
    "The idea behind backstripping is based on the following simplified viewpoint of the geological evolution. Let’s consider an abstract geological column at some location with water depth $w$ and sediment thickness $S$, as well as the same location at some previous geological time when no sediments were present and the water depth was $w_0$. The difference in water depth could have been caused by several reasons: \n",
    "+ the crustal deflection due to the sediment load $\\xi$, \n",
    "+ the global sea level change $\\Delta$, and finally \n",
    "+ the thermo-tectonic subsidence $T$."
   ]
  },
  {
   "cell_type": "markdown",
   "metadata": {
    "deletable": true,
    "editable": true
   },
   "source": [
    "<img src=\"figs/ex5-fig1.png\" width=\"60%\">"
   ]
  },
  {
   "cell_type": "markdown",
   "metadata": {
    "deletable": true,
    "editable": true
   },
   "source": [
    "As you can see from the figure above, these variables can be linked together via\n",
    "\n",
    "$$T = w + S - \\xi - \\Delta - w_0$$\n",
    "\n",
    "The $w_0$ term makes sure that $T_0 = 0$, the model calculates incremental subsidence with respect to $t = 0$, and we  define $T_0$ as the zero baseline.\n",
    "\n",
    "From all the symbols in this equation the model expects $w(t)$, $\\Delta(t)$ and $S_p$ (present-day sediment thickness) as inputs and it computes $\\xi(t)$, $S(t)$ and $T(t)$ as outputs."
   ]
  },
  {
   "cell_type": "markdown",
   "metadata": {
    "deletable": true,
    "editable": true
   },
   "source": [
    "## Crustal deflection\n",
    "\n",
    "For a 1D crustal deflection the simplest model is that of a hydrostatic equilibrium (or **Airy isostasy**). It says that there is a level deep down in the Earth’s mantle at which the hydrostatic pressure remains constant regardless of what happens at the surface. When we push the crust down by $\\xi$, we reduce the pressure contribution from the mantle with respect to this level by $\\rho_mg\\xi$. \n",
    "\n",
    "According to the isostasy theory that same amount of pressure now needs to come from the load on top of the crust. We can see from the figure that the incremental crustal load has three components: \n",
    "+ sediment load, \n",
    "+ water load due to deflection and \n",
    "+ water load due to sea level change \n",
    "\n",
    "$$\\rho_mg\\xi = \\rho_bgS + \\rho_wg(\\xi-S) + \\rho_wg\\Delta$$\n",
    "\n",
    "$$\\xi = \\frac{\\rho_b-\\rho_w}{\\rho_m-\\rho_w}S + \\frac{\\rho_w}{\\rho_m-\\rho_w}\\Delta$$\n",
    "\n",
    "By the way, $\\rho_m$, $\\rho_b$ and $\\rho_w$ are densities of mantle, sediment column ($b$ is for bulk density) and water respectively. When we substitute this expression for $\\xi$ back into the backstripping equation, we obtain the final result:\n",
    "\n",
    "$$T = w - w_0 + \\frac{\\rho_m - \\rho_b}{\\rho_m - \\rho_w}S - \\frac{\\rho_m}{\\rho_m - \\rho_w}\\Delta$$\n",
    "\n",
    "Note that these equations also apply when sediments are exposed to air instead of water (_e.g. mountains_), if we set $\\rho_w = 0$."
   ]
  },
  {
   "cell_type": "markdown",
   "metadata": {
    "deletable": true,
    "editable": true
   },
   "source": [
    "## Sediment decompaction\n",
    "\n",
    "Let’s now look more closely at how to compute sediment properties $S(t)$ and $\\rho_b(t)$. Bulk density is by definition\n",
    "\n",
    "$$\\rho_b(t) = \\phi(t)\\rho_w + [1-\\phi(t)]\\rho_s$$\n",
    "\n",
    "where $\\phi$ is porosity and $\\rho_s$ is sediment rock density (_e.g. pure quartz_). Notice, that the corresponding term in the expression for $\\xi$ is\n",
    "\n",
    "$$(\\rho_b(t)-\\rho_w)S(t) = (\\rho_s - \\rho_w)[1-\\phi(t)]S(t) = (\\rho_s - \\rho_w)h$$\n",
    "\n",
    "where $h = [1-\\phi(t)]S(t)$ is the “_rock thickness_” of the sediment column which does not change over time if we neglect chemical reactions. That is, a sediment layer may compact over time due to grains being squeezed together from the weight above, but the actual mass of rock remains the same.\n",
    "\n",
    "This is good news because it means that there is no need to calculate $\\rho_b(t)$ over time. Instead, we can get away with calculating $h$ only once from the present-day rock properties. But we still have to find $S(t)$ and for this we need a decompaction model.\n",
    "\n",
    "To derive it we will rely again on the fact that $h$ is constant over time. We will also assume that the temporal change of porosity can be captured with a porosity-depth relationship $\\phi(z)$. In other words, porosity changes over time only due to the sediments progressive burial and hence $\\phi(t) = \\phi(z(t))$.\n",
    "\n",
    "Let’s consider an arbitrary sediment layer of thickness $S_p$ and calculate its “_rock thickness_” $h$ from the present-day stratigraphic information:\n",
    "\n",
    "$$h = \\int_{z_{\\mathrm{max}}}^{z_{\\mathrm{max}}+S_p}[1-\\phi(z)]\\mathrm{d}z = S_p - \\int_{z_{\\mathrm{max}}}^{z_{\\mathrm{max}}+S_p}\\phi(z)\\mathrm{d}z$$\n",
    "\n",
    "Here $z_{\\mathrm{max}}$ is the maximum burial depth of our layer, which does not necessarily equal its present-day burial depth if a major erosional event caused its uplift sometime in the geologic past. From knowing $h$ we can then compute $S(z)$ at another burial depth $z$ by finding the zero of the following non-linear function:\n",
    "\n",
    "$$f(S) = S - \\int_{z}^{z+S}\\phi(z)\\mathrm{d}z - h$$\n",
    "\n",
    "which enforces sediment mass concentration during compaction.\n",
    "\n",
    "In practical terms, we need to employ two numerical methods to model sediment compaction. First is the numerical integration of a porosity-depth relationship. A typical theoretical $\\phi(z)$ function exhibits a smooth gradual and monotonic change over depth and hence a [second-order Gauss quadrature](https://en.wikipedia.org/wiki/Gaussian_quadrature) is sufficient to approximate the integral:\n",
    "\n",
    "$$\\Delta z = \\frac{z_2-z_1}{2}, \\quad \\bar{z} = \\frac{z_1+z_2}{2}$$\n",
    "\n",
    "$$\\int_{z_1}^{z_2}\\phi(z)\\mathrm{d}z\\approx\\Delta z\\left[\\phi\\left(\\bar{z}-\\frac{\\sqrt{3}}{3}\\Delta z\\right)+\\phi\\left(\\bar{z}+\\frac{\\sqrt{3}}{3}\\Delta z\\right)\\right]$$\n",
    "\n",
    "The second required numerical technique is the [Newton algorithm](https://en.wikipedia.org/wiki/Newton%27s_method) for solving $f(S)=0$:\n",
    "\n",
    "$$S^{(0)}=h,\\quad S^{(j+1)}=S^{(j)}-\\frac{f(S^{(j)})}{f^{'}(S^{(j)})}=S^{(j)}-\\frac{f(S^{(j)})}{1-\\phi(z_{i}+S^{(j)})}$$"
   ]
  },
  {
   "cell_type": "markdown",
   "metadata": {
    "deletable": true,
    "editable": true
   },
   "source": [
    "## Sample implementation\n",
    "\n",
    "Here is a sample Python implementation of the described model. For our implementation we will use Athy’s porosity-depth relationship, $\\phi(z) = \\phi_0 \\exp(-cz)$, where $\\phi_0$ is a surface porosity and $c$ is a compaction rate. We will only consider depositional events, that is, once a layer had been deposited, it remained in place from then on without being eroded.\n",
    "\n",
    "We first implement the decompaction related functionality in the Layer class:"
   ]
  },
  {
   "cell_type": "code",
   "execution_count": null,
   "metadata": {
    "collapsed": false,
    "deletable": true,
    "editable": true
   },
   "outputs": [],
   "source": [
    "import math\n",
    " \n",
    "from traits.api import (HasStrictTraits, Function, Float,\n",
    "                        Property, cached_property)"
   ]
  },
  {
   "cell_type": "code",
   "execution_count": null,
   "metadata": {
    "collapsed": true,
    "deletable": true,
    "editable": true
   },
   "outputs": [],
   "source": [
    "class Layer(HasStrictTraits):\n",
    "    maximum_burial = Float\n",
    "    present_thickness = Float\n",
    "    porosity_function = Function\n",
    "    compaction_rate = Float\n",
    "    surface_porosity = Float\n",
    "    sediment_density = Float\n",
    "    sediment_thickness = Property(depends_on=['present_thickness,'\n",
    "                                              'maximum_burial'])\n",
    " \n",
    "    def set_rock_properties(self, properties_dict):\n",
    "        self.surface_porosity = properties_dict['surface_porosity']\n",
    "        self.compaction_rate = properties_dict['compaction_rate']\n",
    "        self.sediment_density = properties_dict['sediment_density']\n",
    " \n",
    "    @cached_property\n",
    "    def _get_sediment_thickness(self):\n",
    "        \"\"\" Compute sediment thickness. \"\"\"\n",
    "        z0 = self.maximum_burial\n",
    "        z1 = z0 + self.present_thickness\n",
    "        water_thickness = self.integrate_porosity_function(z0, z1)\n",
    "        return self.present_thickness - water_thickness\n",
    " \n",
    "    def integrate_porosity_function(self, z0, z1):\n",
    "        \"\"\" Numerically integrate porosity function over the given interval. \"\"\"\n",
    "        w = 0.5773502691896257  # sqrt(3)/3\n",
    "        halflength = 0.5 * (z1 - z0)\n",
    "        midpoint = 0.5 * (z0 + z1)\n",
    " \n",
    "        porosity_0 = self.porosity_function(self, midpoint + halflength * w)\n",
    "        porosity_1 = self.porosity_function(self, midpoint - halflength * w)\n",
    "        return halflength * (porosity_0 + porosity_1)\n",
    " \n",
    "    def thickness_at_depth(self, depth, eps=1e-6):\n",
    "        \"\"\" Computes layer's thickness if buried at a given depth. \"\"\"\n",
    "        thickness = self.present_thickness  # initial guess\n",
    "        # Newton iteration\n",
    "        carry_on = True\n",
    "        while carry_on:\n",
    "            water_thickness = self.integrate_porosity_function(depth, depth + thickness)\n",
    "            function_value = thickness - self.sediment_thickness - water_thickness\n",
    "            derivative_value = 1.0 - self.porosity_function(self, depth + thickness)\n",
    "            thickness -= function_value / derivative_value\n",
    "            carry_on = abs(function_value) > eps\n",
    "        return thickness\n",
    " \n",
    "    def sediment_weight(self, constants):\n",
    "        \"\"\" Layer weight above that of water. \"\"\"\n",
    "        return (self.sediment_density - constants.water_density) \\\n",
    "            * constants.gravity * self.sediment_thickness\n",
    "\n",
    "def athy_porosity(layer, z):\n",
    "    \"\"\" Athy's porosity-depth relationship. \"\"\"\n",
    "    return layer.surface_porosity * math.exp(-layer.compaction_rate * z)\n"
   ]
  },
  {
   "cell_type": "markdown",
   "metadata": {
    "deletable": true,
    "editable": true
   },
   "source": [
    "The `Layer` objects know how to compute their rock thickness and how thick they would be at different burial depths. To describe a collection of layers deposited at some time with a certain geologic context, we also introduce the `Deposition` class, as well as the `EventManager` class which holds a collection of deposition events and can perform calculations which require knowledge of the burial history:"
   ]
  },
  {
   "cell_type": "code",
   "execution_count": null,
   "metadata": {
    "collapsed": false,
    "deletable": true,
    "editable": true
   },
   "outputs": [],
   "source": [
    "from sortedcontainers import SortedListWithKey\n",
    "from traits.api import HasStrictTraits, Float, Instance\n",
    "\n",
    "class Deposition(HasStrictTraits):\n",
    "    age = Float\n",
    "    bathymetry = Float\n",
    "    sea_level = Float\n",
    "    layer = Instance(Layer)\n",
    "\n",
    "class EventManager(HasStrictTraits):\n",
    "    events = Instance(SortedListWithKey, kw={'key': lambda e: e.age})\n",
    "    initial_age = Float\n",
    "    initial_sea_level = Float\n",
    "    initial_bathymetry = Float\n",
    " \n",
    "    def add_events(self, events):\n",
    "        self.events.update(events)\n",
    " \n",
    "    def reconstruct_burial_history(self):\n",
    "        \"\"\" Compute maximum burial depths for all the deposited layers. \"\"\"\n",
    "        current_burial = 0.0\n",
    "        for event in self.events:\n",
    "            event.layer.maximum_burial = current_burial\n",
    "            current_burial += event.layer.present_thickness\n",
    " \n",
    "    def decompact_layers(self, starting_event_id, constants):\n",
    "        \"\"\" Decompaction of a sediment column. \"\"\"\n",
    "        current_burial = 0.0\n",
    "        thickness_list = []\n",
    "        weight_list = []\n",
    "        for event in self.events[starting_event_id:]:\n",
    "            thickness = event.layer.thickness_at_depth(current_burial)\n",
    "            weight = event.layer.sediment_weight(constants)\n",
    "            current_burial += thickness\n",
    "            thickness_list.append(thickness)\n",
    "            weight_list.append(weight)\n",
    " \n",
    "        return thickness_list, weight_list\n",
    " \n",
    "    def sea_level_change(self, event_id):\n",
    "        \"\"\" Sea level change for a given event ID. \"\"\"\n",
    "        return self.events[event_id].sea_level - self.initial_sea_level\n",
    " \n",
    "    def bathymetry(self, event_id):\n",
    "        \"\"\" Water depth value for a given event ID. \"\"\"\n",
    "        return self.events[event_id].bathymetry"
   ]
  },
  {
   "cell_type": "code",
   "execution_count": null,
   "metadata": {
    "collapsed": true,
    "deletable": true,
    "editable": true
   },
   "outputs": [],
   "source": [
    "class PhysicalConstants(HasStrictTraits):\n",
    "    gravity = Float(9.81)\n",
    "    water_density = Float(1000)\n",
    "    mantle_density = Float(3300)"
   ]
  },
  {
   "cell_type": "markdown",
   "metadata": {
    "deletable": true,
    "editable": true
   },
   "source": [
    "Using a setup `EventManager` object, the actual backstripping algorithm is trivial to implement:"
   ]
  },
  {
   "cell_type": "code",
   "execution_count": null,
   "metadata": {
    "collapsed": false,
    "deletable": true,
    "editable": true
   },
   "outputs": [],
   "source": [
    "def compute_deflection(sediment_weight, sea_level_change, constants):\n",
    "    \"\"\" helper function for Airy isostasy. \"\"\"\n",
    "    total_weight = sediment_weight + constants.gravity * constants.water_density * sea_level_change\n",
    "    return total_weight / (constants.gravity * (constants.mantle_density - constants.water_density))\n",
    " \n",
    "def compute_subsidence(event_manager, constants=PhysicalConstants()):\n",
    "    \"\"\" Actual backstripping is performed here. \"\"\"\n",
    "    subsidence = []\n",
    "    thickness_evolution = []\n",
    "    for event_id in range(len(event_manager.events)):\n",
    "        thickness, weight = event_manager.decompact_layers(event_id, constants)\n",
    "        total_thickness = sum(thickness)\n",
    "        total_weight = sum(weight)\n",
    "        sea_level_change = event_manager.sea_level_change(event_id)\n",
    "        bathymetry = event_manager.bathymetry(event_id)\n",
    "        deflection = compute_deflection(total_weight, sea_level_change, constants)\n",
    "        s = (bathymetry + total_thickness - deflection - sea_level_change\n",
    "             - event_manager.initial_bathymetry)\n",
    "        subsidence.append(s)\n",
    "        thickness_evolution.append(thickness)\n",
    "    return subsidence[::-1], thickness_evolution[::-1]"
   ]
  },
  {
   "cell_type": "code",
   "execution_count": null,
   "metadata": {
    "collapsed": false,
    "deletable": true,
    "editable": true
   },
   "outputs": [],
   "source": [
    "from itertools import chain\n",
    "import matplotlib.pyplot as plt\n",
    "from matplotlib.pyplot import Polygon\n",
    "from matplotlib.collections import PatchCollection\n",
    "from matplotlib.colors import LinearSegmentedColormap\n",
    "import numpy as np\n",
    "\n",
    "from traits.api import HasStrictTraits, Float\n",
    "\n",
    "import operator\n",
    "\n",
    "def accumulate(iterable, func=operator.add):\n",
    "    it = iter(iterable)\n",
    "    try:\n",
    "        total = next(it)\n",
    "    except StopIteration:\n",
    "        return\n",
    "    yield total\n",
    "    for element in it:\n",
    "        total = func(total, element)\n",
    "        yield total\n",
    "            \n",
    "def prepare_events(ages, bathymetries, sea_levels, thicknesses, rock_types, rock_properties):\n",
    "    \"\"\" Package inputs into an EventManager instance. \"\"\"\n",
    "    events = []\n",
    "    for age, bathymetry, sea_level, thickness, rock_type in zip(\n",
    "          ages[1:], bathymetries[1:], sea_levels[1:], thicknesses, rock_types):\n",
    "        layer = Layer(present_thickness=thickness, porosity_function=athy_porosity)\n",
    "        layer.set_rock_properties(rock_properties[rock_type])\n",
    "        event = Deposition(age=age, bathymetry=bathymetry, sea_level=sea_level, layer=layer)\n",
    "        events.append(event)\n",
    "\n",
    "    event_manager = EventManager(initial_age=ages[0],\n",
    "                                 initial_sea_level=sea_levels[0],\n",
    "                                 initial_bathymetry=bathymetries[0])\n",
    "    event_manager.add_events(events)\n",
    "    event_manager.reconstruct_burial_history()\n",
    "    return event_manager\n",
    "\n",
    "\n",
    "def compute_deflection(sediment_weight, sea_level_change, constants):\n",
    "    \"\"\" helper function for Airy isostasy. \"\"\"\n",
    "    total_weight = sediment_weight + constants.gravity * constants.water_density * sea_level_change\n",
    "    return total_weight / (constants.gravity * (constants.mantle_density - constants.water_density))\n",
    "\n",
    "\n",
    "def compute_subsidence(event_manager, constants=PhysicalConstants()):\n",
    "    \"\"\" Actual backstripping is performed here. \"\"\"\n",
    "    subsidence = []\n",
    "    thickness_evolution = []\n",
    "    for event_id in range(len(event_manager.events)):\n",
    "        thickness, weight = event_manager.decompact_layers(event_id, constants)\n",
    "        total_thickness = sum(thickness)\n",
    "        total_weight = sum(weight)\n",
    "        sea_level_change = event_manager.sea_level_change(event_id)\n",
    "        bathymetry = event_manager.bathymetry(event_id)\n",
    "        deflection = compute_deflection(total_weight, sea_level_change, constants)\n",
    "        s = (bathymetry + total_thickness - deflection - sea_level_change\n",
    "             - event_manager.initial_bathymetry)\n",
    "        subsidence.append(s)\n",
    "        thickness_evolution.append(thickness)\n",
    "    return subsidence[::-1], thickness_evolution[::-1]\n",
    "\n",
    "\n",
    "def plot_results(ages, subsidence, thickness_list, sea_levels, bathymetries):\n",
    "    \"\"\" Plots tectonic subsidence and sediment thickness change over time. \"\"\"\n",
    "    # plot setup\n",
    "    fig = plt.figure(figsize=(12, 5), facecolor='white')\n",
    "    axes = plt.gca()\n",
    "    plt.grid()\n",
    "    axes.invert_xaxis()\n",
    "    axes.set_xlabel(\"Time [Ma]\", labelpad=15)\n",
    "    axes.set_ylabel(\"Depth [m]\", labelpad=15)\n",
    "    axes.tick_params(axis='both', which='major', pad=10, direction='out', size=5)\n",
    "\n",
    "    axes.xaxis.label.set_fontsize(14)\n",
    "    axes.yaxis.label.set_fontsize(14)\n",
    "    for item in axes.get_xticklabels() + axes.get_yticklabels():\n",
    "        item.set_fontsize(10)\n",
    "\n",
    "    # actual data\n",
    "    subs, = plt.plot(ages, [0] + subsidence, '--', color='#0077B8', lw=5, label='Subsidence')\n",
    "    plt.legend(handles=[subs], loc=3)\n",
    "    horizon_offset = [w - bathymetries[0] - (s - sea_levels[0])\n",
    "                      for w, s in zip(bathymetries, sea_levels)]\n",
    "    horizons = [list(accumulate(chain([ho], t))) for ho, t in zip(horizon_offset, thickness_list)]\n",
    "\n",
    "    axes.set_xlim([max(ages), min(ages)])\n",
    "    axes.set_ylim([max(max(h) for h in horizons), min(horizon_offset)])\n",
    "\n",
    "    patches = []\n",
    "    n_patches = len(ages) - 1\n",
    "    x_indices = [n_patches]\n",
    "    for i, j in enumerate(reversed(range(n_patches))):\n",
    "        x_indices = [j] + x_indices + [j+1]\n",
    "        y_indices = list(range(i+1)) + list(range(i+1, -1, -1))\n",
    "        points = [[ages[x_id], horizons[x_id-1][y_id]] for x_id, y_id in zip(x_indices, y_indices)]\n",
    "        patches.append(Polygon(points))\n",
    "    # we have to fix the last polygon\n",
    "    xy = patches[-1].get_xy()\n",
    "    xy[0, 1] = xy[-1, 1] = 0.0\n",
    "    patches[-1].set_xy(xy)\n",
    "\n",
    "    p = PatchCollection(patches, cmap='terrain', alpha=0.7)\n",
    "    p.set_array(np.arange(n_patches))\n",
    "    axes.add_collection(p)\n",
    "    plt.show()"
   ]
  },
  {
   "cell_type": "code",
   "execution_count": null,
   "metadata": {
    "collapsed": false,
    "deletable": true,
    "editable": true
   },
   "outputs": [],
   "source": [
    "# setup layers\n",
    "rock_properties = [\n",
    "    {'surface_porosity': 0.63, 'compaction_rate': 0.51e-3, 'sediment_density': 2720.0},\n",
    "    {'surface_porosity': 0.49, 'compaction_rate': 0.27e-3, 'sediment_density': 2650.0},\n",
    "    {'surface_porosity': 0.70, 'compaction_rate': 0.71e-3, 'sediment_density': 2710.0},\n",
    "    {'surface_porosity': 0.40, 'compaction_rate': 0.60e-3, 'sediment_density': 2720.0},\n",
    "    {'surface_porosity': 0.05, 'compaction_rate': 0.20e-3, 'sediment_density': 2960.0},\n",
    "]\n",
    " \n",
    "ages = [200, 190, 180, 154, 139, 75, 36, 0]\n",
    "sea_levels = [10, -5, 0, -20, -50, 80, 0, -40]\n",
    "bathymetries = [-10, 30, 10, 20, 30, 50, 0, 30]\n",
    "rock_types = [4, 1, 4, 3, 1, 2, 0]\n",
    "thicknesses = [300, 200, 100, 200, 300, 50, 500]\n",
    " \n",
    "event_manager = prepare_events(ages, bathymetries, sea_levels, thicknesses, rock_types, rock_properties)\n",
    "subsidence, thickness_evolution = compute_subsidence(event_manager)\n",
    "plot_results(ages, subsidence, thickness_evolution, sea_levels, bathymetries)"
   ]
  },
  {
   "cell_type": "markdown",
   "metadata": {
    "collapsed": true,
    "deletable": true,
    "editable": true
   },
   "source": [
    "## Subsidence history for different sea-level history\n",
    "\n",
    "Find the tectonic history associated to the following sedimentary column using the python code provided above. \n",
    "\n",
    "<img src=\"figs/ex5-fig2.png\" width=\"80%\">"
   ]
  },
  {
   "cell_type": "markdown",
   "metadata": {
    "deletable": true,
    "editable": true
   },
   "source": [
    "### First apply it with sea-level 1"
   ]
  },
  {
   "cell_type": "code",
   "execution_count": null,
   "metadata": {
    "collapsed": false,
    "deletable": true,
    "editable": true
   },
   "outputs": [],
   "source": [
    "# setup layers\n",
    "rock_properties = ???\n",
    " \n",
    "ages = ???\n",
    "sea_levels1 = ???\n",
    "bathymetries = ???\n",
    "rock_types = ???\n",
    "thicknesses = ???\n",
    " \n",
    "event_manager = ???\n",
    "subsidence1, thickness_evolution = compute_subsidence(event_manager)\n",
    "plot_results(ages, subsidence1, thickness_evolution, sea_levels1, bathymetries)"
   ]
  },
  {
   "cell_type": "markdown",
   "metadata": {
    "deletable": true,
    "editable": true
   },
   "source": [
    "### Second apply it with sea-level 2"
   ]
  },
  {
   "cell_type": "code",
   "execution_count": null,
   "metadata": {
    "collapsed": false,
    "deletable": true,
    "editable": true
   },
   "outputs": [],
   "source": [
    "sea_levels2 = ???\n",
    " \n",
    "event_manager = ???\n",
    "subsidence2, thickness_evolution = compute_subsidence(event_manager)\n",
    "plot_results(ages, subsidence2, thickness_evolution, sea_levels2, bathymetries)"
   ]
  },
  {
   "cell_type": "markdown",
   "metadata": {
    "deletable": true,
    "editable": true
   },
   "source": [
    "### Compare subsidence histories\n",
    "\n",
    "Using the following plotting functions compare the two scenarios."
   ]
  },
  {
   "cell_type": "code",
   "execution_count": null,
   "metadata": {
    "collapsed": false,
    "deletable": true,
    "editable": true
   },
   "outputs": [],
   "source": [
    "def plot_subs(ages, subsidence1, subsidence2):\n",
    "    \n",
    "    \"\"\" Plots tectonic subsidence and sediment thickness change over time. \"\"\"\n",
    "    # plot setup\n",
    "    fig = plt.figure(figsize=(12, 5), facecolor='white')\n",
    "    axes = plt.gca()\n",
    "    plt.grid()\n",
    "    axes.invert_xaxis()\n",
    "    axes.set_xlabel(\"time [Ma]\", labelpad=15)\n",
    "    axes.set_ylabel(\"subsidence history [m]\", labelpad=15)\n",
    "    axes.tick_params(axis='both', which='major', pad=10, direction='out', size=5)\n",
    "\n",
    "    axes.xaxis.label.set_fontsize(14)\n",
    "    axes.yaxis.label.set_fontsize(14)\n",
    "    for item in axes.get_xticklabels() + axes.get_yticklabels():\n",
    "        item.set_fontsize(10)\n",
    "\n",
    "    # actual data\n",
    "    subs, = plt.plot(ages, [0] + subsidence1, '--', color='#ff5050', lw=3, label='Subsidence 1')\n",
    "    subs2, = plt.plot(ages, [0] + subsidence2, '--', color='#0077B8', lw=3, label='Subsidence 2')\n",
    "    plt.legend(handles=[subs,subs2], loc=3)\n",
    "    axes.invert_yaxis()\n",
    "    plt.show()\n",
    "    \n",
    "def plot_sea(ages, sea_levels1, sea_levels2):\n",
    "    \n",
    "    \"\"\" Plots tectonic subsidence and sediment thickness change over time. \"\"\"\n",
    "    # plot setup\n",
    "    fig = plt.figure(figsize=(12, 5), facecolor='white')\n",
    "    axes = plt.gca()\n",
    "    plt.grid()\n",
    "    axes.invert_xaxis()\n",
    "    axes.set_xlabel(\"time [Ma]\", labelpad=15)\n",
    "    axes.set_ylabel(\"sea-level [m]\", labelpad=15)\n",
    "    axes.tick_params(axis='both', which='major', pad=10, direction='out', size=5)\n",
    "\n",
    "    axes.xaxis.label.set_fontsize(14)\n",
    "    axes.yaxis.label.set_fontsize(14)\n",
    "    for item in axes.get_xticklabels() + axes.get_yticklabels():\n",
    "        item.set_fontsize(10)\n",
    "\n",
    "    # actual data\n",
    "    subs, = plt.plot(ages, [0] + sea_levels1[1:], '--', color='#ff5050', lw=3, label='Sea-level 1')\n",
    "    subs2, = plt.plot(ages, [0] + sea_levels2[1:], '--', color='#0077B8', lw=3, label='Sea-level 2')\n",
    "    plt.legend(handles=[subs,subs2], loc=3)\n",
    "    #axes.invert_yaxis()\n",
    "    plt.show()"
   ]
  },
  {
   "cell_type": "code",
   "execution_count": null,
   "metadata": {
    "collapsed": false,
    "deletable": true,
    "editable": true
   },
   "outputs": [],
   "source": [
    "???\n",
    "???"
   ]
  },
  {
   "cell_type": "code",
   "execution_count": null,
   "metadata": {
    "collapsed": true,
    "deletable": true,
    "editable": true
   },
   "outputs": [],
   "source": []
  }
 ],
 "metadata": {
  "kernelspec": {
   "display_name": "Python 2",
   "language": "python",
   "name": "python2"
  },
  "language_info": {
   "codemirror_mode": {
    "name": "ipython",
    "version": 2
   },
   "file_extension": ".py",
   "mimetype": "text/x-python",
   "name": "python",
   "nbconvert_exporter": "python",
   "pygments_lexer": "ipython2",
   "version": "2.7.6"
  }
 },
 "nbformat": 4,
 "nbformat_minor": 2
}
