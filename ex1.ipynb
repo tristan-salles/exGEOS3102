{
 "cells": [
  {
   "cell_type": "markdown",
   "metadata": {
    "deletable": true,
    "editable": true
   },
   "source": [
    "# Sea-level change resulting from sedimentation"
   ]
  },
  {
   "cell_type": "markdown",
   "metadata": {
    "deletable": true,
    "editable": true
   },
   "source": [
    "<div class=\"alert alert-block alert-success\">\n",
    "_Learning points_: sedimentation in the ocean depresses the ocean floor isostatically but elevates the seabed by deposition. A one-dimensional balance results in a sea-level rise of about a quarter of the sediment layer thickness.\n",
    "</div>"
   ]
  },
  {
   "cell_type": "markdown",
   "metadata": {
    "deletable": true,
    "editable": true
   },
   "source": [
    "## Isostatic equilibrium\n",
    "\n",
    "Isostasy is the state of gravitational equilibrium between Earth's crust and mantle such that the crust _floats_ at an elevation that depends on its thickness and density.\n",
    "\n",
    "This concept is invoked to explain how different topographic heights can exist at Earth's surface. When a certain area of Earth's crust reaches the state of isostasy, it is said to be in **isostatic equilibrium**. \n",
    "\n",
    "\n",
    "<img src=\"figs/ex1-fig2.png\" width=\"60%\">\n",
    "\n"
   ]
  },
  {
   "cell_type": "markdown",
   "metadata": {
    "deletable": true,
    "editable": true
   },
   "source": [
    "## Problem\n",
    "\n",
    "As shown in the figure below, we consider a piece of ocean crust of density $\\rho_m$ overlain by water of density $\\rho_w$ and depth $h_w$ (left column). A layer of sediment of density $\\rho_s$ and thickness $h_s$ is deposited on the seafloor (right column)."
   ]
  },
  {
   "cell_type": "markdown",
   "metadata": {
    "deletable": true,
    "editable": true
   },
   "source": [
    "<img src=\"figs/ex1-fig1.png\" width=\"60%\">"
   ]
  },
  {
   "cell_type": "markdown",
   "metadata": {
    "deletable": true,
    "editable": true
   },
   "source": [
    "We assume that our one-dimensional column is in an **isostatic equilibrium** and the isostatic balance between the 2 columns can be derived from $C_1$ and $C_2$ the thicknesses of ocean crust above the compensation depth (Airy) before and after sediment loading respectively."
   ]
  },
  {
   "cell_type": "markdown",
   "metadata": {
    "deletable": true,
    "editable": true
   },
   "source": [
    "<div class=\"alert alert-block alert-info\">\n",
    "**Write the isostatic equilibrium equation**</div>"
   ]
  },
  {
   "cell_type": "markdown",
   "metadata": {
    "deletable": true,
    "editable": true
   },
   "source": [
    "We write the equilibrium equation as:\n",
    "\n",
    "???"
   ]
  },
  {
   "cell_type": "markdown",
   "metadata": {
    "deletable": true,
    "editable": true
   },
   "source": [
    "which reduces to :\n",
    "\n",
    "???"
   ]
  },
  {
   "cell_type": "markdown",
   "metadata": {
    "deletable": true,
    "editable": true
   },
   "source": [
    "<div class=\"alert alert-block alert-info\">\n",
    "**Find the relation between the columns thicknesses**</div>\n",
    "\n",
    "???"
   ]
  },
  {
   "cell_type": "markdown",
   "metadata": {
    "deletable": true,
    "editable": true
   },
   "source": [
    "\n",
    "\n",
    "which reduces to\n",
    "\n",
    "???"
   ]
  },
  {
   "cell_type": "markdown",
   "metadata": {
    "deletable": true,
    "editable": true
   },
   "source": [
    "<div class=\"alert alert-block alert-info\">\n",
    "**Find the relation between sediment thickness and sea-level rise**</div>"
   ]
  },
  {
   "cell_type": "markdown",
   "metadata": {
    "deletable": true,
    "editable": true
   },
   "source": [
    "???"
   ]
  },
  {
   "cell_type": "markdown",
   "metadata": {
    "deletable": true,
    "editable": true
   },
   "source": [
    "## Example\n",
    "\n",
    "We define the following densities: \n",
    "+ $\\rho_m$ is 3300 kg.m$^{-3}$ for the oceanic crust and,\n",
    "+ $\\rho_s$ is 2500 kg.m$^{-3}$ for the ocean sediment.  "
   ]
  },
  {
   "cell_type": "markdown",
   "metadata": {
    "deletable": true,
    "editable": true
   },
   "source": [
    "<div class=\"alert alert-block alert-info\">\n",
    "**What is the sea-level change relative to the sediment thickness?**</div>"
   ]
  },
  {
   "cell_type": "code",
   "execution_count": 1,
   "metadata": {
    "collapsed": false,
    "deletable": true,
    "editable": true
   },
   "outputs": [],
   "source": [
    "# Code here..."
   ]
  },
  {
   "cell_type": "markdown",
   "metadata": {
    "deletable": true,
    "editable": true
   },
   "source": [
    "<div class=\"alert alert-block alert-info\">\n",
    "**Assuming the sedimentation rate in the column is equal to 25 mm per 1000 years, what is the rate of sea-level change?**</div>"
   ]
  },
  {
   "cell_type": "code",
   "execution_count": 2,
   "metadata": {
    "collapsed": false,
    "deletable": true,
    "editable": true
   },
   "outputs": [],
   "source": [
    "# Code here..."
   ]
  },
  {
   "cell_type": "markdown",
   "metadata": {
    "deletable": true,
    "editable": true
   },
   "source": [
    "The sea-level change is 6 mm per 1000 years."
   ]
  },
  {
   "cell_type": "code",
   "execution_count": null,
   "metadata": {
    "collapsed": true,
    "deletable": true,
    "editable": true
   },
   "outputs": [],
   "source": []
  }
 ],
 "metadata": {
  "kernelspec": {
   "display_name": "Python 2",
   "language": "python",
   "name": "python2"
  },
  "language_info": {
   "codemirror_mode": {
    "name": "ipython",
    "version": 2
   },
   "file_extension": ".py",
   "mimetype": "text/x-python",
   "name": "python",
   "nbconvert_exporter": "python",
   "pygments_lexer": "ipython2",
   "version": "2.7.6"
  }
 },
 "nbformat": 4,
 "nbformat_minor": 2
}
