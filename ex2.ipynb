{
 "cells": [
  {
   "cell_type": "markdown",
   "metadata": {
    "deletable": true,
    "editable": true
   },
   "source": [
    "# Porosity-depth relationship"
   ]
  },
  {
   "cell_type": "markdown",
   "metadata": {
    "deletable": true,
    "editable": true
   },
   "source": [
    "<div class=\"alert alert-block alert-success\">\n",
    "_Learning points_: compaction and porosity loss during burial requires some understanding of how porosity can be estimated in the subsurface. Using porosity data, we will evaluate the evolution of porosity with depth and variation in porosity trends between different lithologies.\n",
    "</div>"
   ]
  },
  {
   "cell_type": "code",
   "execution_count": null,
   "metadata": {
    "collapsed": true,
    "deletable": true,
    "editable": true
   },
   "outputs": [],
   "source": [
    "import numpy as np\n",
    "import matplotlib.pyplot as plt\n",
    "\n",
    "\n",
    "%matplotlib inline\n",
    "%config InlineBackend.figure_format = 'svg'\n",
    "plt.rcParams['mathtext.fontset'] = 'cm'"
   ]
  },
  {
   "cell_type": "markdown",
   "metadata": {
    "deletable": true,
    "editable": true
   },
   "source": [
    "Porosity decreases with depth, initially largely due to mechanical compaction of the sediment. The decrease in porosity is relatively large close to the seafloor, where sediment is loosely packed; the lower the porosity, the less room there is for further compaction. This decrease in porosity with depth is commonly modeled as a negative exponential function (Athy, 1930):\n",
    "\n",
    "$$ \\phi(y) = \\phi_0 e^{-y/y_0}$$\n",
    "\n",
    "where $\\phi(y)$ is the porosity at depth $y$ and $y_0$ is the depth where the initial porosity $\\phi_0$ was reduced by $1/e$"
   ]
  },
  {
   "cell_type": "code",
   "execution_count": null,
   "metadata": {
    "collapsed": false,
    "deletable": true,
    "editable": true
   },
   "outputs": [],
   "source": [
    "import numpy as np\n",
    "\n",
    "print 1./np.exp(1.)*0.5"
   ]
  },
  {
   "cell_type": "markdown",
   "metadata": {
    "deletable": true,
    "editable": true
   },
   "source": [
    "This is an empirical equation, as there is no direct physical link between depth and porosity; compaction and porosity reduction are more directly related to the increase in effective stress under a thicker overburden. Here we only address the simplest scenario with no overpressured zones. For normally pressured sediments, Athy’s porosity-depth relationship can be expressed in a slightly different form:\n",
    "\n",
    "$$ \\phi(y) = \\phi_0 e^{-cy}$$\n",
    "\n",
    "where $c$ is a coefficient with the units $km^{-1}$. "
   ]
  },
  {
   "cell_type": "markdown",
   "metadata": {
    "deletable": true,
    "editable": true
   },
   "source": [
    "<div class=\"alert alert-block alert-info\">\n",
    "**Considering the exponential porosity-depth curve below, find the value of the coefficient $c$**</div>\n",
    "\n",
    "<img src=\"figs/ex2-fig1.png\" width=\"30%\">"
   ]
  },
  {
   "cell_type": "markdown",
   "metadata": {
    "deletable": true,
    "editable": true
   },
   "source": [
    "To help you, here is how to call the exponential function from the **numpy library**.\n",
    "\n",
    "```python\n",
    "import numpy as np\n",
    "e1 = np.exp(1.)\n",
    "print e1\n",
    "```"
   ]
  },
  {
   "cell_type": "code",
   "execution_count": null,
   "metadata": {
    "collapsed": false,
    "deletable": true,
    "editable": true
   },
   "outputs": [],
   "source": [
    "# Code here..."
   ]
  },
  {
   "cell_type": "markdown",
   "metadata": {
    "deletable": true,
    "editable": true
   },
   "source": [
    "Reading from the graph, it means that depth is around $\\sim$2.2 km for a porosity of $\\sim$0.18. We deduce the value of the porosity-depth coefficient $c$:"
   ]
  },
  {
   "cell_type": "code",
   "execution_count": null,
   "metadata": {
    "collapsed": false,
    "deletable": true,
    "editable": true
   },
   "outputs": [],
   "source": [
    "# Code here...\n",
    "print 'Approximated porosity-depth coefficient c [km-1] value:'#,c"
   ]
  },
  {
   "cell_type": "markdown",
   "metadata": {
    "deletable": true,
    "editable": true
   },
   "source": [
    "## Lithology dependent curves\n",
    "\n",
    "The idea is that $c$ is a characteristic constant for a certain lithology and it can measured if porosity values are available from different depths. Muds have higher porosities at the seafloor than sands but they compact faster than sands.\n",
    "\n",
    "Below is a graph showing depth-porosity curves from a compilation of 11 Ocean Drilling Program legs and 53 sites (Kominz et al., 2011)\n",
    "\n",
    "<img src=\"figs/ex2-fig2.png\" width=\"90%\">\n",
    "\n"
   ]
  },
  {
   "cell_type": "markdown",
   "metadata": {
    "deletable": true,
    "editable": true
   },
   "source": [
    "<img src=\"figs/ex2-fig3.png\" width=\"60%\">\n",
    "\n",
    "Above table shows exponential fits to data from the Ocean Drilling Program (Kominz et al., 2011 - Table 3).\n",
    "\n",
    "We will compare it with the values from Sclater & Christie (1980) given in the lecture notes.\n",
    "\n",
    "<img src=\"figs/ex2-fig4.png\" width=\"70%\">\n"
   ]
  },
  {
   "cell_type": "markdown",
   "metadata": {
    "deletable": true,
    "editable": true
   },
   "source": [
    "<div class=\"alert alert-block alert-info\">\n",
    "**Using the exemple provided for the Sclater & Christie dataset, plot the curves derived by Kominz for the ODP data set.**</div>"
   ]
  },
  {
   "cell_type": "code",
   "execution_count": null,
   "metadata": {
    "collapsed": true
   },
   "outputs": [],
   "source": [
    "#################################################\n",
    "# Sclater & Christie (1980)\n",
    "#################################################\n",
    "# Porosity-depth coefficient for sand (km-1)\n",
    "c_sand = ???\n",
    "# Porosity-depth coefficent for shale (km-1)\n",
    "c_shale = ??? \n",
    "# Surface porosity for sand\n",
    "phi_sand_0 = ??? \n",
    "# Surface porosity for shale\n",
    "phi_shale_0 = ??? \n",
    "\n",
    "# Define depth range from 0 to 3 km depth\n",
    "y = np.arange(0,3.01,0.01)\n",
    "\n",
    "# Define Athy’s porosity-depth relationships \n",
    "phi_sand = ???\n",
    "phi_shale = ???"
   ]
  },
  {
   "cell_type": "code",
   "execution_count": null,
   "metadata": {
    "collapsed": false,
    "deletable": true,
    "editable": true
   },
   "outputs": [],
   "source": [
    "#################################################\n",
    "# Kominz et al. (2011)\n",
    "#################################################\n",
    "# Kominz et al. 2011 >90% sand curve \n",
    "ck_sand = ??? \n",
    "# Kominz et al. 2011 >90% mud curve (conversion from m to km)\n",
    "ck_shale = ???\n",
    "# Kominz et al. 2011 >90% sand curve\n",
    "phik_sand_0 = ??? \n",
    "# Kominz et al. 2011 >90% shale curve\n",
    "phik_shale_0 = ??? \n",
    "\n",
    "# Define Athy’s porosity-depth relationships\n",
    "phik_sand = ???\n",
    "phik_shale = ???"
   ]
  },
  {
   "cell_type": "markdown",
   "metadata": {},
   "source": [
    "Plotting the results:"
   ]
  },
  {
   "cell_type": "code",
   "execution_count": null,
   "metadata": {
    "collapsed": true
   },
   "outputs": [],
   "source": [
    "plt.figure(figsize=(4,7))\n",
    "plt.plot(phi_sand,y,'gold',linewidth=2,label='sand')\n",
    "plt.plot(phi_shale,y,'brown',linewidth=2,label='shale')\n",
    "plt.xlabel('porosity')\n",
    "plt.ylabel('depth (km)')\n",
    "plt.xlim(0,0.65)\n",
    "plt.gca().invert_yaxis()\n",
    "\n",
    "plt.plot(phik_sand,y,'--',color='gold',linewidth=2,label='90% sand')\n",
    "plt.plot(phik_shale,y,'--',color='brown',linewidth=2,label='90% shale')\n",
    "\n",
    "plt.legend(loc=0, fontsize=10)"
   ]
  },
  {
   "cell_type": "markdown",
   "metadata": {
    "deletable": true,
    "editable": true
   },
   "source": [
    "While the compaction trends for shale happen to be fairly similar in the plot above, the ones for sandy lithologies are very different. \n",
    "\n",
    "**This highlights that porosity-depth curves vary significantly from one basin to another, and are strongly affected by overpressures and exhumation.** \n",
    "\n",
    "Using local data and geological information is critical. As Giles et al. (1998) have put it, “_The use of default compaction curves can introduce significant errors into thermal history and pore- fluid pressure calculations, particularly where little well data are available to calibrate the model._” \n",
    "\n",
    "To see how widely – and wildly – variable compaction trends can be, check out the review paper by Giles et al. (1998)."
   ]
  },
  {
   "cell_type": "markdown",
   "metadata": {
    "deletable": true,
    "editable": true
   },
   "source": [
    "Giles, M.R., Indrelid, S.L., and James, D.M.D., 1998, [Compaction — the great unknown in basin modelling: Geological Society London Special Publications](http://sp.lyellcollection.org/content/141/1/15), v. 141, no. 1, p. 15–43, doi: 10.1144/gsl.sp.1998.141.01.02.\n",
    "\n",
    "Kominz, M.A., Patterson, K., and Odette, D., 2011, [Lithology Dependence of Porosity In Slope and Deep Marine Sediments: Journal of Sedimentary Research](http://jsedres.geoscienceworld.org/content/81/10/730), v. 81, no. 10, p. 730–742, doi: 10.2110/jsr.2011.60."
   ]
  },
  {
   "cell_type": "code",
   "execution_count": null,
   "metadata": {
    "collapsed": true,
    "deletable": true,
    "editable": true
   },
   "outputs": [],
   "source": []
  }
 ],
 "metadata": {
  "kernelspec": {
   "display_name": "Python 2",
   "language": "python",
   "name": "python2"
  },
  "language_info": {
   "codemirror_mode": {
    "name": "ipython",
    "version": 2
   },
   "file_extension": ".py",
   "mimetype": "text/x-python",
   "name": "python",
   "nbconvert_exporter": "python",
   "pygments_lexer": "ipython2",
   "version": "2.7.6"
  }
 },
 "nbformat": 4,
 "nbformat_minor": 2
}
